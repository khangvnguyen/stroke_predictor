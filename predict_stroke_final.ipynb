{
 "cells": [
  {
   "cell_type": "markdown",
   "id": "4813696b-2f10-4fac-9841-7ae46578b0fe",
   "metadata": {},
   "source": [
    "## 1. Load Dataset, Basic EDA"
   ]
  },
  {
   "cell_type": "code",
   "execution_count": 1,
   "id": "e78758da-403b-401c-92f6-addb018e9d38",
   "metadata": {},
   "outputs": [],
   "source": [
    "import numpy as np\n",
    "import pandas as pd\n",
    "\n",
    "df = pd.read_csv('dataset_stroke.csv')"
   ]
  },
  {
   "cell_type": "code",
   "execution_count": 2,
   "id": "e60f1eeb-db22-4569-b3f2-e26472f176b2",
   "metadata": {},
   "outputs": [],
   "source": [
    "# ignore warnings\n",
    "\n",
    "import warnings\n",
    "warnings.filterwarnings('ignore')"
   ]
  },
  {
   "cell_type": "markdown",
   "id": "89a18909-ba3f-4cb1-aeaf-87560409adc5",
   "metadata": {
    "tags": []
   },
   "source": [
    "### a. Quick Check"
   ]
  },
  {
   "cell_type": "code",
   "execution_count": 3,
   "id": "ab97009e-4523-4927-859e-d9073ee2ce1c",
   "metadata": {},
   "outputs": [
    {
     "data": {
      "text/html": [
       "<div>\n",
       "<style scoped>\n",
       "    .dataframe tbody tr th:only-of-type {\n",
       "        vertical-align: middle;\n",
       "    }\n",
       "\n",
       "    .dataframe tbody tr th {\n",
       "        vertical-align: top;\n",
       "    }\n",
       "\n",
       "    .dataframe thead th {\n",
       "        text-align: right;\n",
       "    }\n",
       "</style>\n",
       "<table border=\"1\" class=\"dataframe\">\n",
       "  <thead>\n",
       "    <tr style=\"text-align: right;\">\n",
       "      <th></th>\n",
       "      <th>gender</th>\n",
       "      <th>age</th>\n",
       "      <th>hypertension</th>\n",
       "      <th>heart_disease</th>\n",
       "      <th>work_type</th>\n",
       "      <th>avg_glucose_level</th>\n",
       "      <th>bmi</th>\n",
       "      <th>stroke</th>\n",
       "    </tr>\n",
       "  </thead>\n",
       "  <tbody>\n",
       "    <tr>\n",
       "      <th>0</th>\n",
       "      <td>1</td>\n",
       "      <td>80</td>\n",
       "      <td>0</td>\n",
       "      <td>0</td>\n",
       "      <td>0</td>\n",
       "      <td>75.620000</td>\n",
       "      <td>25.100000</td>\n",
       "      <td>0</td>\n",
       "    </tr>\n",
       "    <tr>\n",
       "      <th>1</th>\n",
       "      <td>0</td>\n",
       "      <td>64</td>\n",
       "      <td>0</td>\n",
       "      <td>0</td>\n",
       "      <td>2</td>\n",
       "      <td>113.680000</td>\n",
       "      <td>24.200000</td>\n",
       "      <td>0</td>\n",
       "    </tr>\n",
       "    <tr>\n",
       "      <th>2</th>\n",
       "      <td>0</td>\n",
       "      <td>73</td>\n",
       "      <td>1</td>\n",
       "      <td>0</td>\n",
       "      <td>2</td>\n",
       "      <td>71.290000</td>\n",
       "      <td>37.700000</td>\n",
       "      <td>0</td>\n",
       "    </tr>\n",
       "    <tr>\n",
       "      <th>3</th>\n",
       "      <td>0</td>\n",
       "      <td>71</td>\n",
       "      <td>0</td>\n",
       "      <td>1</td>\n",
       "      <td>2</td>\n",
       "      <td>218.092005</td>\n",
       "      <td>29.950318</td>\n",
       "      <td>1</td>\n",
       "    </tr>\n",
       "    <tr>\n",
       "      <th>4</th>\n",
       "      <td>1</td>\n",
       "      <td>51</td>\n",
       "      <td>0</td>\n",
       "      <td>0</td>\n",
       "      <td>2</td>\n",
       "      <td>92.950000</td>\n",
       "      <td>23.900000</td>\n",
       "      <td>0</td>\n",
       "    </tr>\n",
       "  </tbody>\n",
       "</table>\n",
       "</div>"
      ],
      "text/plain": [
       "   gender  age  hypertension  heart_disease  work_type  avg_glucose_level  \\\n",
       "0       1   80             0              0          0          75.620000   \n",
       "1       0   64             0              0          2         113.680000   \n",
       "2       0   73             1              0          2          71.290000   \n",
       "3       0   71             0              1          2         218.092005   \n",
       "4       1   51             0              0          2          92.950000   \n",
       "\n",
       "         bmi  stroke  \n",
       "0  25.100000       0  \n",
       "1  24.200000       0  \n",
       "2  37.700000       0  \n",
       "3  29.950318       1  \n",
       "4  23.900000       0  "
      ]
     },
     "execution_count": 3,
     "metadata": {},
     "output_type": "execute_result"
    }
   ],
   "source": [
    "df.head(5)"
   ]
  },
  {
   "cell_type": "code",
   "execution_count": 4,
   "id": "185d7557-3b62-4ecb-a437-1629c378e07c",
   "metadata": {},
   "outputs": [
    {
     "data": {
      "text/html": [
       "<div>\n",
       "<style scoped>\n",
       "    .dataframe tbody tr th:only-of-type {\n",
       "        vertical-align: middle;\n",
       "    }\n",
       "\n",
       "    .dataframe tbody tr th {\n",
       "        vertical-align: top;\n",
       "    }\n",
       "\n",
       "    .dataframe thead th {\n",
       "        text-align: right;\n",
       "    }\n",
       "</style>\n",
       "<table border=\"1\" class=\"dataframe\">\n",
       "  <thead>\n",
       "    <tr style=\"text-align: right;\">\n",
       "      <th></th>\n",
       "      <th>gender</th>\n",
       "      <th>age</th>\n",
       "      <th>hypertension</th>\n",
       "      <th>heart_disease</th>\n",
       "      <th>work_type</th>\n",
       "      <th>avg_glucose_level</th>\n",
       "      <th>bmi</th>\n",
       "      <th>stroke</th>\n",
       "    </tr>\n",
       "  </thead>\n",
       "  <tbody>\n",
       "    <tr>\n",
       "      <th>count</th>\n",
       "      <td>5055.000000</td>\n",
       "      <td>5055.000000</td>\n",
       "      <td>5055.000000</td>\n",
       "      <td>5055.000000</td>\n",
       "      <td>5055.000000</td>\n",
       "      <td>5055.000000</td>\n",
       "      <td>5055.000000</td>\n",
       "      <td>5055.000000</td>\n",
       "    </tr>\n",
       "    <tr>\n",
       "      <th>mean</th>\n",
       "      <td>0.533729</td>\n",
       "      <td>47.731949</td>\n",
       "      <td>0.091592</td>\n",
       "      <td>0.054402</td>\n",
       "      <td>29.408902</td>\n",
       "      <td>111.276830</td>\n",
       "      <td>29.166742</td>\n",
       "      <td>0.229080</td>\n",
       "    </tr>\n",
       "    <tr>\n",
       "      <th>std</th>\n",
       "      <td>0.498910</td>\n",
       "      <td>23.111256</td>\n",
       "      <td>0.288478</td>\n",
       "      <td>0.226831</td>\n",
       "      <td>80.755149</td>\n",
       "      <td>50.209475</td>\n",
       "      <td>7.305279</td>\n",
       "      <td>0.420282</td>\n",
       "    </tr>\n",
       "    <tr>\n",
       "      <th>min</th>\n",
       "      <td>0.000000</td>\n",
       "      <td>0.000000</td>\n",
       "      <td>0.000000</td>\n",
       "      <td>0.000000</td>\n",
       "      <td>0.000000</td>\n",
       "      <td>55.220000</td>\n",
       "      <td>10.300000</td>\n",
       "      <td>0.000000</td>\n",
       "    </tr>\n",
       "    <tr>\n",
       "      <th>25%</th>\n",
       "      <td>0.000000</td>\n",
       "      <td>30.000000</td>\n",
       "      <td>0.000000</td>\n",
       "      <td>0.000000</td>\n",
       "      <td>0.000000</td>\n",
       "      <td>77.515000</td>\n",
       "      <td>24.400000</td>\n",
       "      <td>0.000000</td>\n",
       "    </tr>\n",
       "    <tr>\n",
       "      <th>50%</th>\n",
       "      <td>1.000000</td>\n",
       "      <td>51.000000</td>\n",
       "      <td>0.000000</td>\n",
       "      <td>0.000000</td>\n",
       "      <td>0.000000</td>\n",
       "      <td>93.411304</td>\n",
       "      <td>28.600000</td>\n",
       "      <td>0.000000</td>\n",
       "    </tr>\n",
       "    <tr>\n",
       "      <th>75%</th>\n",
       "      <td>1.000000</td>\n",
       "      <td>67.000000</td>\n",
       "      <td>0.000000</td>\n",
       "      <td>0.000000</td>\n",
       "      <td>1.000000</td>\n",
       "      <td>121.180000</td>\n",
       "      <td>32.796912</td>\n",
       "      <td>0.000000</td>\n",
       "    </tr>\n",
       "    <tr>\n",
       "      <th>max</th>\n",
       "      <td>1.000000</td>\n",
       "      <td>82.000000</td>\n",
       "      <td>1.000000</td>\n",
       "      <td>1.000000</td>\n",
       "      <td>255.000000</td>\n",
       "      <td>271.740000</td>\n",
       "      <td>97.600000</td>\n",
       "      <td>1.000000</td>\n",
       "    </tr>\n",
       "  </tbody>\n",
       "</table>\n",
       "</div>"
      ],
      "text/plain": [
       "            gender          age  hypertension  heart_disease    work_type  \\\n",
       "count  5055.000000  5055.000000   5055.000000    5055.000000  5055.000000   \n",
       "mean      0.533729    47.731949      0.091592       0.054402    29.408902   \n",
       "std       0.498910    23.111256      0.288478       0.226831    80.755149   \n",
       "min       0.000000     0.000000      0.000000       0.000000     0.000000   \n",
       "25%       0.000000    30.000000      0.000000       0.000000     0.000000   \n",
       "50%       1.000000    51.000000      0.000000       0.000000     0.000000   \n",
       "75%       1.000000    67.000000      0.000000       0.000000     1.000000   \n",
       "max       1.000000    82.000000      1.000000       1.000000   255.000000   \n",
       "\n",
       "       avg_glucose_level          bmi       stroke  \n",
       "count        5055.000000  5055.000000  5055.000000  \n",
       "mean          111.276830    29.166742     0.229080  \n",
       "std            50.209475     7.305279     0.420282  \n",
       "min            55.220000    10.300000     0.000000  \n",
       "25%            77.515000    24.400000     0.000000  \n",
       "50%            93.411304    28.600000     0.000000  \n",
       "75%           121.180000    32.796912     0.000000  \n",
       "max           271.740000    97.600000     1.000000  "
      ]
     },
     "execution_count": 4,
     "metadata": {},
     "output_type": "execute_result"
    }
   ],
   "source": [
    "df.describe()"
   ]
  },
  {
   "cell_type": "markdown",
   "id": "33c22b7c-e418-4bcb-a1d4-f4a88d9b2840",
   "metadata": {},
   "source": [
    "##### There's no need to treat null values because there is none, as shown below"
   ]
  },
  {
   "cell_type": "code",
   "execution_count": 5,
   "id": "18be4dbf-ee28-4ebe-aae4-735e39d1ac6b",
   "metadata": {},
   "outputs": [
    {
     "name": "stdout",
     "output_type": "stream",
     "text": [
      "<class 'pandas.core.frame.DataFrame'>\n",
      "RangeIndex: 5055 entries, 0 to 5054\n",
      "Data columns (total 8 columns):\n",
      " #   Column             Non-Null Count  Dtype  \n",
      "---  ------             --------------  -----  \n",
      " 0   gender             5055 non-null   int64  \n",
      " 1   age                5055 non-null   int64  \n",
      " 2   hypertension       5055 non-null   int64  \n",
      " 3   heart_disease      5055 non-null   int64  \n",
      " 4   work_type          5055 non-null   int64  \n",
      " 5   avg_glucose_level  5055 non-null   float64\n",
      " 6   bmi                5055 non-null   float64\n",
      " 7   stroke             5055 non-null   int64  \n",
      "dtypes: float64(2), int64(6)\n",
      "memory usage: 316.1 KB\n"
     ]
    }
   ],
   "source": [
    "df.info()"
   ]
  },
  {
   "cell_type": "markdown",
   "id": "281bc474-b653-44d7-ba61-8c03d6b0cf22",
   "metadata": {},
   "source": [
    "##### Might need to put some categories as 'other'"
   ]
  },
  {
   "cell_type": "code",
   "execution_count": 6,
   "id": "9cbf5e6e-c995-47a3-9717-0393e111e9e4",
   "metadata": {},
   "outputs": [
    {
     "data": {
      "text/plain": [
       "work_type\n",
       "0      3048\n",
       "1       886\n",
       "255     553\n",
       "2       543\n",
       "254      18\n",
       "214       1\n",
       "152       1\n",
       "66        1\n",
       "70        1\n",
       "122       1\n",
       "230       1\n",
       "249       1\n",
       "Name: count, dtype: int64"
      ]
     },
     "execution_count": 6,
     "metadata": {},
     "output_type": "execute_result"
    }
   ],
   "source": [
    "df.work_type.value_counts()"
   ]
  },
  {
   "cell_type": "markdown",
   "id": "a61e51f0-ec3f-4dea-a30e-98998b4f4997",
   "metadata": {
    "tags": []
   },
   "source": [
    "### b. EDA"
   ]
  },
  {
   "cell_type": "markdown",
   "id": "4f1bb6ff-11b6-445c-bc7e-db516c145159",
   "metadata": {
    "tags": []
   },
   "source": [
    "#### Glucose Level\n",
    "\n",
    "##### Glucose Level is Bimodal, roughly divided into two groups with the division around 170 units"
   ]
  },
  {
   "cell_type": "code",
   "execution_count": 7,
   "id": "74d127ed-4784-41bb-9623-d42e3a64796a",
   "metadata": {},
   "outputs": [
    {
     "data": {
      "text/plain": [
       "<Axes: >"
      ]
     },
     "execution_count": 7,
     "metadata": {},
     "output_type": "execute_result"
    },
    {
     "data": {
      "image/png": "[encoded data removed]",
      "text/plain": [
       "<Figure size 640x480 with 1 Axes>"
      ]
     },
     "metadata": {},
     "output_type": "display_data"
    }
   ],
   "source": [
    "df.avg_glucose_level.hist(bins=30)"
   ]
  },
  {
   "cell_type": "markdown",
   "id": "94a0725e-abfa-46a2-a3c9-3420929c4a2c",
   "metadata": {},
   "source": [
    "##### When split between stroke and non-stroke people, we can see that it's still a bimodal, but the ratio of stroke people with high blood sugar is higher"
   ]
  },
  {
   "cell_type": "code",
   "execution_count": 8,
   "id": "e3dcb907-a5c5-4451-9bfd-57d0b7629754",
   "metadata": {},
   "outputs": [
    {
     "data": {
      "text/plain": [
       "<Axes: >"
      ]
     },
     "execution_count": 8,
     "metadata": {},
     "output_type": "execute_result"
    },
    {
     "data": {
      "image/png": "[encoded data removed]",
      "text/plain": [
       "<Figure size 640x480 with 1 Axes>"
      ]
     },
     "metadata": {},
     "output_type": "display_data"
    }
   ],
   "source": [
    "df[df.stroke==0].avg_glucose_level.hist(bins=30)\n",
    "df[df.stroke==1].avg_glucose_level.hist(bins=30)"
   ]
  },
  {
   "cell_type": "markdown",
   "id": "578fcff2-234e-4249-bbb0-1838d713ba32",
   "metadata": {
    "tags": []
   },
   "source": [
    "#### Age\n",
    "##### Age level is uniformly distributed, but there are more people in the older range"
   ]
  },
  {
   "cell_type": "code",
   "execution_count": 9,
   "id": "60feb7cc-30a0-4adb-b7a1-1a36a14c2052",
   "metadata": {},
   "outputs": [
    {
     "data": {
      "text/plain": [
       "<Axes: >"
      ]
     },
     "execution_count": 9,
     "metadata": {},
     "output_type": "execute_result"
    },
    {
     "data": {
      "image/png": "[encoded data removed]",
      "text/plain": [
       "<Figure size 640x480 with 1 Axes>"
      ]
     },
     "metadata": {},
     "output_type": "display_data"
    }
   ],
   "source": [
    "df.age.hist(bins=30)"
   ]
  },
  {
   "cell_type": "markdown",
   "id": "cda215af-feab-4681-901e-fe88e42cbde3",
   "metadata": {},
   "source": [
    "##### Clearly people with older age tend to have more strokes"
   ]
  },
  {
   "cell_type": "code",
   "execution_count": 10,
   "id": "4012fbc5-f02f-4bf5-9b4c-36eeb039de97",
   "metadata": {},
   "outputs": [
    {
     "data": {
      "text/plain": [
       "<Axes: >"
      ]
     },
     "execution_count": 10,
     "metadata": {},
     "output_type": "execute_result"
    },
    {
     "data": {
      "image/png": "[encoded data removed]",
      "text/plain": [
       "<Figure size 640x480 with 1 Axes>"
      ]
     },
     "metadata": {},
     "output_type": "display_data"
    }
   ],
   "source": [
    "df[df.stroke==0].age.hist(bins=30)\n",
    "df[df.stroke==1].age.hist(bins=30)"
   ]
  },
  {
   "cell_type": "markdown",
   "id": "00432be5-63d8-4ac2-845e-3198a2695041",
   "metadata": {
    "tags": []
   },
   "source": [
    "#### BMI\n",
    "##### BMI is normally distributed, a little skewed right"
   ]
  },
  {
   "cell_type": "code",
   "execution_count": 11,
   "id": "50762dd4-333f-46f6-80ab-ef626325a08a",
   "metadata": {},
   "outputs": [
    {
     "data": {
      "text/plain": [
       "<Axes: >"
      ]
     },
     "execution_count": 11,
     "metadata": {},
     "output_type": "execute_result"
    },
    {
     "data": {
      "image/png": "[encoded data removed]",
      "text/plain": [
       "<Figure size 640x480 with 1 Axes>"
      ]
     },
     "metadata": {},
     "output_type": "display_data"
    }
   ],
   "source": [
    "df.bmi.hist(bins=30)"
   ]
  },
  {
   "cell_type": "markdown",
   "id": "ec0a779e-d1cd-48bc-8731-f195e108ec05",
   "metadata": {},
   "source": [
    "##### There is no clear relationship between BMI and probability of stroke"
   ]
  },
  {
   "cell_type": "code",
   "execution_count": 12,
   "id": "5bcfadff-0271-4311-85a9-87f272d3a3e6",
   "metadata": {},
   "outputs": [
    {
     "data": {
      "text/plain": [
       "<Axes: >"
      ]
     },
     "execution_count": 12,
     "metadata": {},
     "output_type": "execute_result"
    },
    {
     "data": {
      "image/png": "[encoded data removed]",
      "text/plain": [
       "<Figure size 640x480 with 1 Axes>"
      ]
     },
     "metadata": {},
     "output_type": "display_data"
    }
   ],
   "source": [
    "df[df.stroke==0].bmi.hist(bins=30)\n",
    "df[df.stroke==1].bmi.hist(bins=30)"
   ]
  },
  {
   "cell_type": "code",
   "execution_count": null,
   "id": "3a61ed77-05df-4aae-8fa8-c95c8aafcdd3",
   "metadata": {},
   "outputs": [],
   "source": []
  },
  {
   "cell_type": "markdown",
   "id": "7fd03201-9b7a-4c8f-a8f3-5d2480fd0c68",
   "metadata": {
    "tags": []
   },
   "source": [
    "### c. Assess Imbalance"
   ]
  },
  {
   "cell_type": "code",
   "execution_count": 13,
   "id": "88249f43-d380-4a49-be4d-7f053943640e",
   "metadata": {},
   "outputs": [
    {
     "data": {
      "text/plain": [
       "<Axes: title={'center': 'Distribution of Stroke Patients in the Dataset'}>"
      ]
     },
     "execution_count": 13,
     "metadata": {},
     "output_type": "execute_result"
    },
    {
     "data": {
      "image/png": "[encoded data removed]",
      "text/plain": [
       "<Figure size 640x480 with 1 Axes>"
      ]
     },
     "metadata": {},
     "output_type": "display_data"
    }
   ],
   "source": [
    "import seaborn as sns\n",
    "seagreen_palette = sns.light_palette('seagreen')\n",
    "df.stroke.replace({0: 'not_stroke', 1: 'stroke'}).value_counts().plot.pie(\n",
    "    label=\"\",\n",
    "    title=\"Distribution of Stroke Patients in the Dataset\",\n",
    "    autopct=\"%.2f%%\",\n",
    "    colors = seagreen_palette[2::3]\n",
    ")"
   ]
  },
  {
   "cell_type": "markdown",
   "id": "e2fb7fea-2137-4628-b0dc-d42c93fc5d94",
   "metadata": {},
   "source": [
    "## 2. Data Preprocessing, Data Cleaning, Feature Engineering"
   ]
  },
  {
   "cell_type": "code",
   "execution_count": null,
   "id": "73d671ad-f049-4e1a-ab9c-24b385677584",
   "metadata": {},
   "outputs": [],
   "source": []
  },
  {
   "cell_type": "markdown",
   "id": "cb44956b-5f38-470f-8a7f-b1b678a5260e",
   "metadata": {
    "tags": []
   },
   "source": [
    "### a. Re-categorize work_type"
   ]
  },
  {
   "cell_type": "code",
   "execution_count": 14,
   "id": "563b221c-0bc7-47e2-a23f-a2129b01fc3c",
   "metadata": {},
   "outputs": [],
   "source": [
    "top_5_cat = df.work_type.value_counts().nlargest(5).index\n",
    "\n",
    "df['work_type'] = df.work_type.where(df.work_type.isin(top_5_cat), other='other')"
   ]
  },
  {
   "cell_type": "code",
   "execution_count": 15,
   "id": "a66ba17d-ed1e-4b53-9a7b-04c067f36f10",
   "metadata": {},
   "outputs": [],
   "source": [
    "df['work_type'] = df.work_type.astype('str').astype('category')"
   ]
  },
  {
   "cell_type": "code",
   "execution_count": null,
   "id": "d9d8bc1e-45b5-4f74-a390-683cb9a5f812",
   "metadata": {},
   "outputs": [],
   "source": []
  },
  {
   "cell_type": "markdown",
   "id": "581c192b-3136-4f9b-991e-deea8acf746a",
   "metadata": {
    "tags": []
   },
   "source": [
    "### b. Age-Binning\n",
    "\n",
    "\n",
    "##### According to [CDC.gov](https://www.cdc.gov/stroke/risk_factors.htm#:~:text=The%20chance%20of%20having%20a,65%20years%20also%20have%20strokes.&text=In%20fact%2C%20about%20one%20in,adults%20ages%2015%20to%2049), risk of stroke doubles every ten year after age of 55, so we can bin it accordingly. "
   ]
  },
  {
   "cell_type": "code",
   "execution_count": 16,
   "id": "1810d640-fc06-43f7-ae97-3804ac0812ce",
   "metadata": {},
   "outputs": [],
   "source": [
    "bins = [0, 45, 55, 65, 75, np.inf]\n",
    "\n",
    "df['age_range'] = pd.cut(df['age'], bins, labels=False)\n",
    "df['age_range'] = df['age_range'].fillna(0).astype(int)"
   ]
  },
  {
   "cell_type": "code",
   "execution_count": null,
   "id": "009cb123-36d2-4e96-b236-0a36a0ff74de",
   "metadata": {},
   "outputs": [],
   "source": []
  },
  {
   "cell_type": "code",
   "execution_count": 17,
   "id": "d3c9f9ef-ef59-428c-8b88-279fee05380f",
   "metadata": {},
   "outputs": [
    {
     "data": {
      "text/plain": [
       "age_range\n",
       "0    2149\n",
       "1     744\n",
       "2     807\n",
       "3     635\n",
       "4     720\n",
       "Name: bmi, dtype: int64"
      ]
     },
     "execution_count": 17,
     "metadata": {},
     "output_type": "execute_result"
    }
   ],
   "source": [
    "df.groupby('age_range')['bmi'].count()\n"
   ]
  },
  {
   "cell_type": "code",
   "execution_count": null,
   "id": "6d1d37fd-23ea-44ae-89a7-bcfdb1692d08",
   "metadata": {},
   "outputs": [],
   "source": []
  },
  {
   "cell_type": "markdown",
   "id": "1938d007-9826-48e6-a5bc-b5735aec9e33",
   "metadata": {
    "tags": []
   },
   "source": [
    "### c. Find correlations"
   ]
  },
  {
   "cell_type": "code",
   "execution_count": 18,
   "id": "a0e512f2-d8f4-4989-90a4-63759ed8843b",
   "metadata": {},
   "outputs": [
    {
     "data": {
      "text/plain": [
       "<Axes: >"
      ]
     },
     "execution_count": 18,
     "metadata": {},
     "output_type": "execute_result"
    },
    {
     "data": {
      "image/png": "[encoded data removed]",
      "text/plain": [
       "<Figure size 1000x1000 with 2 Axes>"
      ]
     },
     "metadata": {},
     "output_type": "display_data"
    }
   ],
   "source": [
    "import seaborn as sns\n",
    "import matplotlib.pyplot as plt\n",
    "\n",
    "seagreen_palette = sns.light_palette('seagreen')\n",
    "\n",
    "fig, ax = plt.subplots(figsize=(10,10))       \n",
    "sns.heatmap(df.replace('other', 1000).corr(), annot=True, ax=ax)"
   ]
  },
  {
   "cell_type": "markdown",
   "id": "cc3aa7ee-65c8-4057-914d-ef3c06e92879",
   "metadata": {},
   "source": [
    "## 3. Model Selection"
   ]
  },
  {
   "cell_type": "code",
   "execution_count": null,
   "id": "83948354-4260-4f1f-b1ac-14ec706890f3",
   "metadata": {},
   "outputs": [],
   "source": []
  },
  {
   "cell_type": "markdown",
   "id": "c4e76b79-45fd-49b1-a274-13df288c7787",
   "metadata": {
    "tags": []
   },
   "source": [
    "### a. XGBoost"
   ]
  },
  {
   "cell_type": "markdown",
   "id": "8490fb1e-a406-4581-a068-465e574e41b6",
   "metadata": {
    "tags": []
   },
   "source": [
    "##### Choose features and split data into train, val and test"
   ]
  },
  {
   "cell_type": "code",
   "execution_count": 19,
   "id": "3b05304b-1710-402b-8cca-2f67db36c522",
   "metadata": {},
   "outputs": [],
   "source": [
    "FEATURES = ['gender', 'age_range', 'hypertension', 'heart_disease', 'work_type',\n",
    "       'avg_glucose_level', 'bmi']\n",
    "\n",
    "LABELS = ['stroke']"
   ]
  },
  {
   "cell_type": "code",
   "execution_count": 20,
   "id": "e2cadab9-6fa1-428d-a421-238e8565bc77",
   "metadata": {},
   "outputs": [],
   "source": [
    "from sklearn.model_selection import train_test_split\n",
    "\n",
    "#create feature set and labels\n",
    "X = df[FEATURES]\n",
    "y = df[LABELS]\n",
    "\n",
    "#train and test split\n",
    "X_trainval, X_test, y_trainval, y_test = train_test_split(X, y, test_size=0.20, random_state=68, stratify=y)"
   ]
  },
  {
   "cell_type": "code",
   "execution_count": 21,
   "id": "89e3a006-e548-4fd8-84fe-9bd3982caee5",
   "metadata": {},
   "outputs": [],
   "source": [
    "X_train, X_val, y_train, y_val = train_test_split(X_trainval, y_trainval, test_size=0.20, random_state=68, stratify=y_trainval)"
   ]
  },
  {
   "cell_type": "markdown",
   "id": "d1218134-769c-4e3a-9f47-db1b86c2285e",
   "metadata": {
    "tags": []
   },
   "source": [
    "#### Hyperparam tuning"
   ]
  },
  {
   "cell_type": "markdown",
   "id": "27d0c4dc-3ca8-4ecf-b0ec-0fcfb8049f61",
   "metadata": {
    "tags": []
   },
   "source": [
    "##### We first optimize by finding the model with max ROC AUC"
   ]
  },
  {
   "cell_type": "code",
   "execution_count": 22,
   "id": "cb47766a-1544-4bb9-89fc-4a79a6856345",
   "metadata": {},
   "outputs": [],
   "source": [
    "from hyperopt import fmin, tpe, hp, SparkTrials, STATUS_OK, Trials\n",
    "from hyperopt.pyll import scope\n",
    "from sklearn.metrics import accuracy_score, precision_score, recall_score, f1_score, roc_auc_score, confusion_matrix\n",
    "\n",
    "import xgboost as xgb\n",
    "import mlflow\n",
    "import time\n",
    "mlflow.set_tracking_uri(\"http://localhost:5000\")\n",
    "\n",
    "experiment_name = \"Hyperparam Search XGBoost - Stroke Detection\"\n",
    "run_name = \"inital_search_for_params\"\n",
    "\n",
    "mlflow.set_experiment(experiment_name)\n",
    "\n",
    "experiment = mlflow.get_experiment_by_name(experiment_name)\n",
    "experiment_id = experiment.experiment_id\n",
    "\n",
    "dtrain_reg = xgb.DMatrix(X_train, y_train, enable_categorical=True)\n",
    "dval_reg = xgb.DMatrix(X_val, y_val, enable_categorical=True)\n",
    "\n",
    "search_space = {\n",
    "    'learning_rate': hp.loguniform('learning_rate', 0, 0.01),\n",
    "    'max_depth': scope.int(hp.uniform('max_depth', 1, 100)),\n",
    "    'min_child_weight': hp.loguniform('min_child_weight', -2, 3),\n",
    "    'subsample': hp.uniform('subsample', 0.5, 1),\n",
    "    'colsample_bytree': hp.uniform('colsample_bytree', 0.5, 1),\n",
    "    'gamma': hp.loguniform('gamma', -10, 10),\n",
    "    'alpha': hp.loguniform('alpha', -10, 10),\n",
    "    'lambda': hp.loguniform('lambda', -10, 10),\n",
    "    'scale_pos_weight': hp.uniform('scale_pos_weight', 10, 50),\n",
    "    'objective': 'binary:logistic',\n",
    "    'eval_metric': 'auc',\n",
    "    'seed': 123,\n",
    "}\n",
    "\n",
    "def train_model(params):\n",
    "\n",
    "    # With MLflow autologging, hyperparameters and the trained model are automatically logged to MLflow.\n",
    "    mlflow.xgboost.autolog(silent=True)\n",
    "\n",
    "    # However, we can log additional information by using an MLFlow tracking context manager\n",
    "    with mlflow.start_run(nested=True, run_name=run_name, experiment_id = experiment_id):\n",
    "\n",
    "        # Train model and record run time\n",
    "        start_time = time.time()\n",
    "        booster = xgb.train(params=params, dtrain=dtrain_reg, num_boost_round=5000, evals=[(dval_reg, \"validation\")], early_stopping_rounds=50, verbose_eval=False)\n",
    "        run_time = time.time() - start_time\n",
    "        mlflow.log_metric('runtime', run_time)\n",
    "\n",
    "        # Record AUC as primary loss for Hyperopt to minimize\n",
    "        predictions_test = booster.predict(dval_reg)\n",
    "        auc_score = roc_auc_score(y_val, predictions_test)\n",
    "\n",
    "        # Set the loss to -1*auc_score so fmin maximizes the auc_score\n",
    "        return {'status': STATUS_OK, 'loss': -auc_score, 'booster': booster.attributes()}"
   ]
  },
  {
   "cell_type": "code",
   "execution_count": 23,
   "id": "60d190c2-a5df-4a6b-8d81-63f82ba8beaf",
   "metadata": {},
   "outputs": [
    {
     "name": "stdout",
     "output_type": "stream",
     "text": [
      "100%|██████████| 25/25 [00:16<00:00,  1.54trial/s, best loss: -0.9180873180873181]\n"
     ]
    }
   ],
   "source": [
    "with mlflow.start_run(run_name=run_name, experiment_id = experiment_id):\n",
    "  best_params = fmin(\n",
    "    fn=train_model, \n",
    "    space=search_space, \n",
    "    algo=tpe.suggest, \n",
    "    max_evals=25,\n",
    "    rstate=np.random.default_rng(123),\n",
    "  )"
   ]
  },
  {
   "cell_type": "markdown",
   "id": "0f4252fe-1053-41c8-b20b-e551c939cb50",
   "metadata": {},
   "source": [
    "We can view the MLFlow training summary by running `mlflow ui` on our Terminal"
   ]
  },
  {
   "cell_type": "code",
   "execution_count": 24,
   "id": "d8e58377-7793-4c68-8e1f-e8c5929835f6",
   "metadata": {},
   "outputs": [
    {
     "data": {
      "text/plain": [
       "{'alpha': 0.005584013947653967,\n",
       " 'colsample_bytree': 0.767872589594243,\n",
       " 'gamma': 0.011320203235405252,\n",
       " 'lambda': 6.244709782669356,\n",
       " 'learning_rate': 1.0052846269486904,\n",
       " 'max_depth': 41.144268405673984,\n",
       " 'min_child_weight': 4.7903550386199765,\n",
       " 'scale_pos_weight': 39.37939616204363,\n",
       " 'subsample': 0.9980654615049733}"
      ]
     },
     "execution_count": 24,
     "metadata": {},
     "output_type": "execute_result"
    }
   ],
   "source": [
    "best_params"
   ]
  },
  {
   "cell_type": "code",
   "execution_count": 25,
   "id": "fa92fdfd-8d62-4186-a536-ad87ff6025c6",
   "metadata": {},
   "outputs": [],
   "source": [
    "fixed_params = {\n",
    "    'enable_categorical': True,\n",
    "    'tree_method': 'hist',\n",
    "    'eval_metric': \"auc\",\n",
    "    'early_stopping_rounds': 10\n",
    "}"
   ]
  },
  {
   "cell_type": "code",
   "execution_count": 26,
   "id": "17beee09-8e0e-4d6d-b740-58aecc3df171",
   "metadata": {},
   "outputs": [],
   "source": [
    "final_params = {**best_params, **fixed_params}\n",
    "final_params['max_depth'] = int(final_params['max_depth'])"
   ]
  },
  {
   "cell_type": "code",
   "execution_count": null,
   "id": "c286735f-e1b7-4442-98f6-d7f39dc6614b",
   "metadata": {},
   "outputs": [],
   "source": []
  },
  {
   "cell_type": "code",
   "execution_count": 27,
   "id": "d396be8e-6ca0-4d93-86b2-f4cdb963d004",
   "metadata": {},
   "outputs": [
    {
     "name": "stdout",
     "output_type": "stream",
     "text": [
      "[0]\tvalidation_0-auc:0.89298\tvalidation_1-auc:0.86244\n",
      "[1]\tvalidation_0-auc:0.92999\tvalidation_1-auc:0.88038\n",
      "[2]\tvalidation_0-auc:0.94895\tvalidation_1-auc:0.88717\n",
      "[3]\tvalidation_0-auc:0.96584\tvalidation_1-auc:0.89527\n",
      "[4]\tvalidation_0-auc:0.97184\tvalidation_1-auc:0.90620\n",
      "[5]\tvalidation_0-auc:0.97851\tvalidation_1-auc:0.91316\n",
      "[6]\tvalidation_0-auc:0.98306\tvalidation_1-auc:0.91796\n",
      "[7]\tvalidation_0-auc:0.98553\tvalidation_1-auc:0.91752\n",
      "[8]\tvalidation_0-auc:0.98780\tvalidation_1-auc:0.91685\n",
      "[9]\tvalidation_0-auc:0.99106\tvalidation_1-auc:0.92062\n",
      "[10]\tvalidation_0-auc:0.99310\tvalidation_1-auc:0.92233\n",
      "[11]\tvalidation_0-auc:0.99449\tvalidation_1-auc:0.92105\n",
      "[12]\tvalidation_0-auc:0.99607\tvalidation_1-auc:0.92094\n",
      "[13]\tvalidation_0-auc:0.99652\tvalidation_1-auc:0.92115\n",
      "[14]\tvalidation_0-auc:0.99724\tvalidation_1-auc:0.92222\n",
      "[15]\tvalidation_0-auc:0.99746\tvalidation_1-auc:0.92429\n",
      "[16]\tvalidation_0-auc:0.99769\tvalidation_1-auc:0.92532\n",
      "[17]\tvalidation_0-auc:0.99785\tvalidation_1-auc:0.92605\n",
      "[18]\tvalidation_0-auc:0.99826\tvalidation_1-auc:0.92645\n",
      "[19]\tvalidation_0-auc:0.99840\tvalidation_1-auc:0.92588\n",
      "[20]\tvalidation_0-auc:0.99858\tvalidation_1-auc:0.92503\n",
      "[21]\tvalidation_0-auc:0.99879\tvalidation_1-auc:0.92531\n",
      "[22]\tvalidation_0-auc:0.99891\tvalidation_1-auc:0.92639\n",
      "[23]\tvalidation_0-auc:0.99897\tvalidation_1-auc:0.92637\n",
      "[24]\tvalidation_0-auc:0.99909\tvalidation_1-auc:0.92675\n",
      "[25]\tvalidation_0-auc:0.99926\tvalidation_1-auc:0.92787\n",
      "[26]\tvalidation_0-auc:0.99926\tvalidation_1-auc:0.92736\n",
      "[27]\tvalidation_0-auc:0.99933\tvalidation_1-auc:0.92682\n",
      "[28]\tvalidation_0-auc:0.99935\tvalidation_1-auc:0.92663\n",
      "[29]\tvalidation_0-auc:0.99940\tvalidation_1-auc:0.92568\n",
      "[30]\tvalidation_0-auc:0.99948\tvalidation_1-auc:0.92555\n",
      "[31]\tvalidation_0-auc:0.99950\tvalidation_1-auc:0.92594\n",
      "[32]\tvalidation_0-auc:0.99947\tvalidation_1-auc:0.92649\n",
      "[33]\tvalidation_0-auc:0.99945\tvalidation_1-auc:0.92543\n",
      "[34]\tvalidation_0-auc:0.99946\tvalidation_1-auc:0.92561\n"
     ]
    }
   ],
   "source": [
    "val_set = [( X_train, y_train), ( X_val, y_val)]\n",
    "xgb_model = xgb.XGBClassifier(**final_params)\n",
    "xgb_model.fit(X_train, y_train, eval_set=val_set)\n",
    "y_pred = xgb_model.predict(X_test)"
   ]
  },
  {
   "cell_type": "code",
   "execution_count": 28,
   "id": "8ddff6eb-78dd-4905-a99c-354fcc5bad64",
   "metadata": {},
   "outputs": [
    {
     "data": {
      "text/plain": [
       "(0.8367952522255193,\n",
       " 0.6,\n",
       " 0.8663793103448276,\n",
       " 0.708994708994709,\n",
       " 0.8471819529901288)"
      ]
     },
     "execution_count": 28,
     "metadata": {},
     "output_type": "execute_result"
    }
   ],
   "source": [
    "(\n",
    "    accuracy_score(y_test, y_pred),\n",
    "    precision_score(y_test, y_pred),\n",
    "    recall_score(y_test, y_pred),\n",
    "    f1_score(y_test, y_pred),\n",
    "    roc_auc_score(y_test, y_pred),\n",
    ")"
   ]
  },
  {
   "cell_type": "markdown",
   "id": "aeccb9a2-2737-40f5-b19a-7209628c0776",
   "metadata": {
    "tags": []
   },
   "source": [
    "##### However, since this is stroke detection, we might need to prioritize on Recall, hence we can shift the param search towards finding the best recall\n",
    "\n",
    "We can try to increase the scale_pos_weight manually and it will increase the recall"
   ]
  },
  {
   "cell_type": "code",
   "execution_count": 29,
   "id": "9bf8bbd0-e88d-462e-a8b0-ff49cccd9ae5",
   "metadata": {},
   "outputs": [
    {
     "data": {
      "text/plain": [
       "{'alpha': 0.005584013947653967,\n",
       " 'colsample_bytree': 0.767872589594243,\n",
       " 'gamma': 0.011320203235405252,\n",
       " 'lambda': 6.244709782669356,\n",
       " 'learning_rate': 1.0052846269486904,\n",
       " 'max_depth': 41.144268405673984,\n",
       " 'min_child_weight': 4.7903550386199765,\n",
       " 'scale_pos_weight': 39.37939616204363,\n",
       " 'subsample': 0.9980654615049733}"
      ]
     },
     "execution_count": 29,
     "metadata": {},
     "output_type": "execute_result"
    }
   ],
   "source": [
    "best_params"
   ]
  },
  {
   "cell_type": "code",
   "execution_count": null,
   "id": "35d39b73-578f-4540-a2f2-464ffe78b5f0",
   "metadata": {
    "scrolled": true,
    "tags": []
   },
   "outputs": [],
   "source": []
  },
  {
   "cell_type": "code",
   "execution_count": null,
   "id": "8eb59300-1814-433b-a06a-cb6855a6798e",
   "metadata": {},
   "outputs": [],
   "source": []
  },
  {
   "cell_type": "markdown",
   "id": "de3cd530-612d-41aa-bcb6-f57721bf50ee",
   "metadata": {
    "tags": []
   },
   "source": [
    "### b. Neural Network"
   ]
  },
  {
   "cell_type": "markdown",
   "id": "a09df512-f85b-4bd3-b1e5-58303d2735e0",
   "metadata": {
    "tags": []
   },
   "source": [
    "#### Preprocess for Neural Net"
   ]
  },
  {
   "cell_type": "code",
   "execution_count": 30,
   "id": "4110a44c-d5d6-494f-9e80-09bdc894dcb5",
   "metadata": {
    "tags": []
   },
   "outputs": [],
   "source": [
    "import tensorflow as tf\n",
    "from tensorflow import keras\n",
    "from tensorflow.keras import backend as K\n",
    "from typing import Sequence\n",
    "\n",
    "from sklearn import metrics\n",
    "from sklearn import model_selection\n",
    "from sklearn import preprocessing"
   ]
  },
  {
   "cell_type": "code",
   "execution_count": null,
   "id": "70ed1d42-a42b-4050-a4e1-5c4f4b8db1e7",
   "metadata": {},
   "outputs": [],
   "source": []
  },
  {
   "cell_type": "code",
   "execution_count": 31,
   "id": "7b01814f-5d4a-4bd2-b652-e87f44b28844",
   "metadata": {},
   "outputs": [],
   "source": [
    "CATEGORICAL_FEATURES = ['work_type', 'gender']\n",
    "NUMERIC_FEATURES = ['age', 'avg_glucose_level', 'bmi', 'hypertension', 'heart_disease']\n",
    "LABELS = ['stroke']"
   ]
  },
  {
   "cell_type": "markdown",
   "id": "a6da5607-47e9-41dd-ae54-c2224a67cf84",
   "metadata": {},
   "source": [
    "##### One hot encoding for all the categorical features"
   ]
  },
  {
   "cell_type": "code",
   "execution_count": 32,
   "id": "692b3744-54e7-4c9c-af3a-45ee6acc8f68",
   "metadata": {},
   "outputs": [],
   "source": [
    "from sklearn.preprocessing import OneHotEncoder\n",
    "one_hot_encoder = OneHotEncoder(sparse=False)\n",
    "one_hot_encoder.fit(df[CATEGORICAL_FEATURES])\n",
    "\n",
    "df_encoded = one_hot_encoder.transform(df[CATEGORICAL_FEATURES])\n",
    "\n",
    "df_encoded = pd.DataFrame(data=df_encoded, columns=one_hot_encoder.get_feature_names_out())\n"
   ]
  },
  {
   "cell_type": "code",
   "execution_count": 33,
   "id": "b1a62150-bd1b-42ed-9e87-6ab28a5a5958",
   "metadata": {},
   "outputs": [],
   "source": [
    "df_dnn = df[NUMERIC_FEATURES].join(df_encoded).join(df[LABELS])\n",
    "CATEGORICAL_FEATURES = one_hot_encoder.get_feature_names_out()"
   ]
  },
  {
   "cell_type": "markdown",
   "id": "e5e43380-5a43-4045-b906-3c0e002c0d85",
   "metadata": {},
   "source": [
    "##### Min Max Scaler for Numeric Features"
   ]
  },
  {
   "cell_type": "code",
   "execution_count": 34,
   "id": "cc0c1e5f-b1c7-40c1-b1a1-9431201e92c2",
   "metadata": {},
   "outputs": [],
   "source": [
    "from sklearn.preprocessing import MinMaxScaler\n",
    "scaler = MinMaxScaler()\n",
    "scaler.fit(df[NUMERIC_FEATURES])\n",
    "df_scaled = scaler.transform(df[NUMERIC_FEATURES])"
   ]
  },
  {
   "cell_type": "code",
   "execution_count": 35,
   "id": "8b0ca455-cd8a-4b47-b23b-d188d4314036",
   "metadata": {},
   "outputs": [],
   "source": [
    "df_scaled = pd.DataFrame(data=df_scaled, columns=scaler.get_feature_names_out())"
   ]
  },
  {
   "cell_type": "code",
   "execution_count": 36,
   "id": "fe358b93-950f-4dca-adcf-9895e958da40",
   "metadata": {},
   "outputs": [],
   "source": [
    "df_dnn = df_dnn[CATEGORICAL_FEATURES].join(df_scaled).join(df[LABELS])"
   ]
  },
  {
   "cell_type": "markdown",
   "id": "c764ad67-8c4b-4376-9294-e0a3dc9b0292",
   "metadata": {},
   "source": [
    "##### Split Data"
   ]
  },
  {
   "cell_type": "code",
   "execution_count": 37,
   "id": "4de40ed8-5daf-4ee9-9002-4d9ad4a2c4b8",
   "metadata": {},
   "outputs": [],
   "source": [
    "def dnn_split(df):\n",
    "  for key in CATEGORICAL_FEATURES:\n",
    "    encoder = preprocessing.LabelEncoder()\n",
    "    df[key] = encoder.fit_transform(df[key])\n",
    "\n",
    "  df_traineval, df_test = model_selection.train_test_split(\n",
    "      df, test_size=0.2, random_state=123)\n",
    "\n",
    "  df_train, df_eval = model_selection.train_test_split(\n",
    "      df_traineval, test_size=0.2, random_state=123)\n",
    "\n",
    "  def feature_dict(df):\n",
    "    features = {}\n",
    "    for k, v in dict(df[CATEGORICAL_FEATURES]).items():\n",
    "        features[k] = v.values\n",
    "    for k, v in dict(df[NUMERIC_FEATURES]).items():\n",
    "        features[k] = v.values\n",
    "    return features\n",
    "\n",
    "  x_train, y_train = feature_dict(df_train), df_train[LABELS].values\n",
    "  x_eval, y_eval = feature_dict(df_eval), df_eval[LABELS].values\n",
    "  x_test, y_test = feature_dict(df_test), df_test[LABELS].values\n",
    "\n",
    "  return x_train, x_eval, y_train, y_eval, x_test, y_test\n"
   ]
  },
  {
   "cell_type": "code",
   "execution_count": 38,
   "id": "bba7b54c-6a7d-4282-a41e-43c1ac9a6b1c",
   "metadata": {},
   "outputs": [],
   "source": [
    "x_train, x_eval, y_train, y_eval, x_test, y_test = dnn_split(df_dnn)"
   ]
  },
  {
   "cell_type": "code",
   "execution_count": null,
   "id": "8d1bf3fa-c0f0-4039-a5b6-4bbd25ea5a16",
   "metadata": {},
   "outputs": [],
   "source": []
  },
  {
   "cell_type": "markdown",
   "id": "e67d7e51-cda9-4eea-8324-549441284f73",
   "metadata": {
    "tags": []
   },
   "source": [
    "#### Build Network"
   ]
  },
  {
   "cell_type": "code",
   "execution_count": 39,
   "id": "2dee1120-a2cd-4aaa-83f0-147bc713f768",
   "metadata": {},
   "outputs": [],
   "source": [
    "numeric_inputs = []\n",
    "\n",
    "for col in df_dnn[NUMERIC_FEATURES].columns:\n",
    "    numeric_inputs.append(tf.keras.layers.Input(shape=(1,), name=col))\n",
    "    \n",
    "categorical_inputs = []\n",
    "\n",
    "for col in df_dnn[CATEGORICAL_FEATURES].columns:\n",
    "    categorical_inputs.append(tf.keras.layers.Input(shape=(1,), name=col))"
   ]
  },
  {
   "cell_type": "code",
   "execution_count": 40,
   "id": "e3c0be92-4809-4b37-8ca5-2a2e96729ab1",
   "metadata": {},
   "outputs": [],
   "source": [
    "deep_input = tf.keras.layers.concatenate(numeric_inputs + categorical_inputs, name='all_features')\n",
    "first_hidden_layer = tf.keras.layers.Dense(64, activation='relu', name='first_hidden')(deep_input)\n",
    "second_hidden_layer = tf.keras.layers.Dense(8, activation='relu', name='second_hidden')(first_hidden_layer)\n",
    "output_layer = tf.keras.layers.Dense(1, activation='sigmoid', name='sigmoid_output')(second_hidden_layer)\n",
    "deep_model = tf.keras.Model(\n",
    "    inputs=numeric_inputs+categorical_inputs,\n",
    "    outputs=output_layer\n",
    ")"
   ]
  },
  {
   "cell_type": "code",
   "execution_count": 41,
   "id": "b8aac9d1-0858-4152-af59-a86b12c8abd5",
   "metadata": {},
   "outputs": [
    {
     "name": "stdout",
     "output_type": "stream",
     "text": [
      "Model: \"model\"\n",
      "__________________________________________________________________________________________________\n",
      " Layer (type)                Output Shape                 Param #   Connected to                  \n",
      "==================================================================================================\n",
      " age (InputLayer)            [(None, 1)]                  0         []                            \n",
      "                                                                                                  \n",
      " avg_glucose_level (InputLa  [(None, 1)]                  0         []                            \n",
      " yer)                                                                                             \n",
      "                                                                                                  \n",
      " bmi (InputLayer)            [(None, 1)]                  0         []                            \n",
      "                                                                                                  \n",
      " hypertension (InputLayer)   [(None, 1)]                  0         []                            \n",
      "                                                                                                  \n",
      " heart_disease (InputLayer)  [(None, 1)]                  0         []                            \n",
      "                                                                                                  \n",
      " work_type_0 (InputLayer)    [(None, 1)]                  0         []                            \n",
      "                                                                                                  \n",
      " work_type_1 (InputLayer)    [(None, 1)]                  0         []                            \n",
      "                                                                                                  \n",
      " work_type_2 (InputLayer)    [(None, 1)]                  0         []                            \n",
      "                                                                                                  \n",
      " work_type_254 (InputLayer)  [(None, 1)]                  0         []                            \n",
      "                                                                                                  \n",
      " work_type_255 (InputLayer)  [(None, 1)]                  0         []                            \n",
      "                                                                                                  \n",
      " work_type_other (InputLaye  [(None, 1)]                  0         []                            \n",
      " r)                                                                                               \n",
      "                                                                                                  \n",
      " gender_0 (InputLayer)       [(None, 1)]                  0         []                            \n",
      "                                                                                                  \n",
      " gender_1 (InputLayer)       [(None, 1)]                  0         []                            \n",
      "                                                                                                  \n",
      " all_features (Concatenate)  (None, 13)                   0         ['age[0][0]',                 \n",
      "                                                                     'avg_glucose_level[0][0]',   \n",
      "                                                                     'bmi[0][0]',                 \n",
      "                                                                     'hypertension[0][0]',        \n",
      "                                                                     'heart_disease[0][0]',       \n",
      "                                                                     'work_type_0[0][0]',         \n",
      "                                                                     'work_type_1[0][0]',         \n",
      "                                                                     'work_type_2[0][0]',         \n",
      "                                                                     'work_type_254[0][0]',       \n",
      "                                                                     'work_type_255[0][0]',       \n",
      "                                                                     'work_type_other[0][0]',     \n",
      "                                                                     'gender_0[0][0]',            \n",
      "                                                                     'gender_1[0][0]']            \n",
      "                                                                                                  \n",
      " first_hidden (Dense)        (None, 64)                   896       ['all_features[0][0]']        \n",
      "                                                                                                  \n",
      " second_hidden (Dense)       (None, 8)                    520       ['first_hidden[0][0]']        \n",
      "                                                                                                  \n",
      " sigmoid_output (Dense)      (None, 1)                    9         ['second_hidden[0][0]']       \n",
      "                                                                                                  \n",
      "==================================================================================================\n",
      "Total params: 1425 (5.57 KB)\n",
      "Trainable params: 1425 (5.57 KB)\n",
      "Non-trainable params: 0 (0.00 Byte)\n",
      "__________________________________________________________________________________________________\n"
     ]
    }
   ],
   "source": [
    "deep_model.summary()"
   ]
  },
  {
   "cell_type": "markdown",
   "id": "4aff255b-5d1b-48b9-a994-8b4f7f190f82",
   "metadata": {
    "tags": []
   },
   "source": [
    "#### Train Model"
   ]
  },
  {
   "cell_type": "code",
   "execution_count": 42,
   "id": "d195358d-820c-441e-bec1-bcaffef1d237",
   "metadata": {
    "scrolled": true,
    "tags": []
   },
   "outputs": [
    {
     "name": "stderr",
     "output_type": "stream",
     "text": [
      "WARNING:absl:At this time, the v2.11+ optimizer `tf.keras.optimizers.Adam` runs slowly on M1/M2 Macs, please use the legacy Keras optimizer instead, located at `tf.keras.optimizers.legacy.Adam`.\n",
      "WARNING:absl:`lr` is deprecated in Keras optimizer, please use `learning_rate` or use the legacy optimizer, e.g.,tf.keras.optimizers.legacy.Adam.\n"
     ]
    },
    {
     "name": "stdout",
     "output_type": "stream",
     "text": [
      "Epoch 1/500\n",
      "4/4 - 0s - loss: 0.7374 - auc: 0.4584 - val_loss: 0.7125 - val_auc: 0.4087 - lr: 0.0010 - 457ms/epoch - 114ms/step\n",
      "Epoch 2/500\n",
      "4/4 - 0s - loss: 0.7031 - auc: 0.4288 - val_loss: 0.6812 - val_auc: 0.3764 - lr: 0.0010 - 27ms/epoch - 7ms/step\n",
      "Epoch 3/500\n",
      "4/4 - 0s - loss: 0.6741 - auc: 0.3894 - val_loss: 0.6545 - val_auc: 0.3660 - lr: 0.0010 - 24ms/epoch - 6ms/step\n",
      "Epoch 4/500\n",
      "4/4 - 0s - loss: 0.6502 - auc: 0.3590 - val_loss: 0.6320 - val_auc: 0.3941 - lr: 0.0010 - 26ms/epoch - 6ms/step\n",
      "Epoch 5/500\n",
      "4/4 - 0s - loss: 0.6305 - auc: 0.3836 - val_loss: 0.6149 - val_auc: 0.4321 - lr: 0.0010 - 25ms/epoch - 6ms/step\n",
      "Epoch 6/500\n",
      "4/4 - 0s - loss: 0.6149 - auc: 0.4082 - val_loss: 0.6006 - val_auc: 0.4524 - lr: 0.0010 - 25ms/epoch - 6ms/step\n",
      "Epoch 7/500\n",
      "4/4 - 0s - loss: 0.6004 - auc: 0.4268 - val_loss: 0.5870 - val_auc: 0.4615 - lr: 0.0010 - 24ms/epoch - 6ms/step\n",
      "Epoch 8/500\n",
      "4/4 - 0s - loss: 0.5868 - auc: 0.4348 - val_loss: 0.5741 - val_auc: 0.4709 - lr: 0.0010 - 24ms/epoch - 6ms/step\n",
      "Epoch 9/500\n",
      "4/4 - 0s - loss: 0.5742 - auc: 0.4415 - val_loss: 0.5633 - val_auc: 0.4796 - lr: 0.0010 - 23ms/epoch - 6ms/step\n",
      "Epoch 10/500\n",
      "4/4 - 0s - loss: 0.5635 - auc: 0.4552 - val_loss: 0.5542 - val_auc: 0.4919 - lr: 0.0010 - 24ms/epoch - 6ms/step\n",
      "Epoch 11/500\n",
      "4/4 - 0s - loss: 0.5547 - auc: 0.4681 - val_loss: 0.5469 - val_auc: 0.5117 - lr: 0.0010 - 23ms/epoch - 6ms/step\n",
      "Epoch 12/500\n",
      "4/4 - 0s - loss: 0.5476 - auc: 0.4880 - val_loss: 0.5406 - val_auc: 0.5289 - lr: 0.0010 - 24ms/epoch - 6ms/step\n",
      "Epoch 13/500\n",
      "4/4 - 0s - loss: 0.5412 - auc: 0.5066 - val_loss: 0.5348 - val_auc: 0.5464 - lr: 0.0010 - 23ms/epoch - 6ms/step\n",
      "Epoch 14/500\n",
      "4/4 - 0s - loss: 0.5353 - auc: 0.5280 - val_loss: 0.5287 - val_auc: 0.5764 - lr: 0.0010 - 24ms/epoch - 6ms/step\n",
      "Epoch 15/500\n",
      "4/4 - 0s - loss: 0.5288 - auc: 0.5637 - val_loss: 0.5216 - val_auc: 0.5966 - lr: 0.0010 - 23ms/epoch - 6ms/step\n",
      "Epoch 16/500\n",
      "4/4 - 0s - loss: 0.5222 - auc: 0.5901 - val_loss: 0.5148 - val_auc: 0.6227 - lr: 0.0010 - 23ms/epoch - 6ms/step\n",
      "Epoch 17/500\n",
      "4/4 - 0s - loss: 0.5158 - auc: 0.6182 - val_loss: 0.5086 - val_auc: 0.6466 - lr: 0.0010 - 23ms/epoch - 6ms/step\n",
      "Epoch 18/500\n",
      "4/4 - 0s - loss: 0.5100 - auc: 0.6429 - val_loss: 0.5025 - val_auc: 0.6634 - lr: 0.0010 - 23ms/epoch - 6ms/step\n",
      "Epoch 19/500\n",
      "4/4 - 0s - loss: 0.5039 - auc: 0.6579 - val_loss: 0.4963 - val_auc: 0.6781 - lr: 0.0010 - 23ms/epoch - 6ms/step\n",
      "Epoch 20/500\n",
      "4/4 - 0s - loss: 0.4977 - auc: 0.6736 - val_loss: 0.4898 - val_auc: 0.6977 - lr: 0.0010 - 23ms/epoch - 6ms/step\n",
      "Epoch 21/500\n",
      "4/4 - 0s - loss: 0.4914 - auc: 0.6915 - val_loss: 0.4835 - val_auc: 0.7184 - lr: 0.0010 - 24ms/epoch - 6ms/step\n",
      "Epoch 22/500\n",
      "4/4 - 0s - loss: 0.4849 - auc: 0.7165 - val_loss: 0.4779 - val_auc: 0.7408 - lr: 0.0010 - 23ms/epoch - 6ms/step\n",
      "Epoch 23/500\n",
      "4/4 - 0s - loss: 0.4790 - auc: 0.7487 - val_loss: 0.4725 - val_auc: 0.7691 - lr: 0.0010 - 23ms/epoch - 6ms/step\n",
      "Epoch 24/500\n",
      "4/4 - 0s - loss: 0.4731 - auc: 0.7713 - val_loss: 0.4670 - val_auc: 0.7793 - lr: 0.0010 - 23ms/epoch - 6ms/step\n",
      "Epoch 25/500\n",
      "4/4 - 0s - loss: 0.4671 - auc: 0.7803 - val_loss: 0.4617 - val_auc: 0.7863 - lr: 0.0010 - 23ms/epoch - 6ms/step\n",
      "Epoch 26/500\n",
      "4/4 - 0s - loss: 0.4613 - auc: 0.7879 - val_loss: 0.4567 - val_auc: 0.7914 - lr: 0.0010 - 24ms/epoch - 6ms/step\n",
      "Epoch 27/500\n",
      "4/4 - 0s - loss: 0.4557 - auc: 0.7950 - val_loss: 0.4516 - val_auc: 0.7980 - lr: 0.0010 - 23ms/epoch - 6ms/step\n",
      "Epoch 28/500\n",
      "4/4 - 0s - loss: 0.4503 - auc: 0.8001 - val_loss: 0.4468 - val_auc: 0.8029 - lr: 0.0010 - 23ms/epoch - 6ms/step\n",
      "Epoch 29/500\n",
      "4/4 - 0s - loss: 0.4451 - auc: 0.8041 - val_loss: 0.4420 - val_auc: 0.8075 - lr: 0.0010 - 23ms/epoch - 6ms/step\n",
      "Epoch 30/500\n",
      "4/4 - 0s - loss: 0.4400 - auc: 0.8090 - val_loss: 0.4373 - val_auc: 0.8125 - lr: 0.0010 - 23ms/epoch - 6ms/step\n",
      "Epoch 31/500\n",
      "4/4 - 0s - loss: 0.4352 - auc: 0.8132 - val_loss: 0.4326 - val_auc: 0.8167 - lr: 0.0010 - 23ms/epoch - 6ms/step\n",
      "Epoch 32/500\n",
      "4/4 - 0s - loss: 0.4305 - auc: 0.8172 - val_loss: 0.4284 - val_auc: 0.8209 - lr: 0.0010 - 23ms/epoch - 6ms/step\n",
      "Epoch 33/500\n",
      "4/4 - 0s - loss: 0.4261 - auc: 0.8220 - val_loss: 0.4246 - val_auc: 0.8263 - lr: 0.0010 - 23ms/epoch - 6ms/step\n",
      "Epoch 34/500\n",
      "4/4 - 0s - loss: 0.4218 - auc: 0.8272 - val_loss: 0.4210 - val_auc: 0.8305 - lr: 0.0010 - 24ms/epoch - 6ms/step\n",
      "Epoch 35/500\n",
      "4/4 - 0s - loss: 0.4177 - auc: 0.8314 - val_loss: 0.4175 - val_auc: 0.8329 - lr: 0.0010 - 24ms/epoch - 6ms/step\n",
      "Epoch 36/500\n",
      "4/4 - 0s - loss: 0.4137 - auc: 0.8352 - val_loss: 0.4139 - val_auc: 0.8370 - lr: 0.0010 - 24ms/epoch - 6ms/step\n",
      "Epoch 37/500\n",
      "4/4 - 0s - loss: 0.4098 - auc: 0.8385 - val_loss: 0.4102 - val_auc: 0.8401 - lr: 0.0010 - 23ms/epoch - 6ms/step\n",
      "Epoch 38/500\n",
      "4/4 - 0s - loss: 0.4063 - auc: 0.8412 - val_loss: 0.4071 - val_auc: 0.8433 - lr: 0.0010 - 23ms/epoch - 6ms/step\n",
      "Epoch 39/500\n",
      "4/4 - 0s - loss: 0.4028 - auc: 0.8444 - val_loss: 0.4038 - val_auc: 0.8456 - lr: 0.0010 - 23ms/epoch - 6ms/step\n",
      "Epoch 40/500\n",
      "4/4 - 0s - loss: 0.3991 - auc: 0.8474 - val_loss: 0.4012 - val_auc: 0.8471 - lr: 0.0010 - 23ms/epoch - 6ms/step\n",
      "Epoch 41/500\n",
      "4/4 - 0s - loss: 0.3960 - auc: 0.8503 - val_loss: 0.3991 - val_auc: 0.8498 - lr: 0.0010 - 29ms/epoch - 7ms/step\n",
      "Epoch 42/500\n",
      "4/4 - 0s - loss: 0.3932 - auc: 0.8528 - val_loss: 0.3955 - val_auc: 0.8515 - lr: 0.0010 - 29ms/epoch - 7ms/step\n",
      "Epoch 43/500\n",
      "4/4 - 0s - loss: 0.3894 - auc: 0.8552 - val_loss: 0.3922 - val_auc: 0.8538 - lr: 0.0010 - 25ms/epoch - 6ms/step\n",
      "Epoch 44/500\n",
      "4/4 - 0s - loss: 0.3862 - auc: 0.8573 - val_loss: 0.3899 - val_auc: 0.8556 - lr: 0.0010 - 23ms/epoch - 6ms/step\n",
      "Epoch 45/500\n",
      "4/4 - 0s - loss: 0.3835 - auc: 0.8605 - val_loss: 0.3876 - val_auc: 0.8579 - lr: 0.0010 - 23ms/epoch - 6ms/step\n",
      "Epoch 46/500\n",
      "4/4 - 0s - loss: 0.3805 - auc: 0.8641 - val_loss: 0.3849 - val_auc: 0.8601 - lr: 0.0010 - 23ms/epoch - 6ms/step\n",
      "Epoch 47/500\n",
      "4/4 - 0s - loss: 0.3777 - auc: 0.8671 - val_loss: 0.3829 - val_auc: 0.8619 - lr: 0.0010 - 23ms/epoch - 6ms/step\n",
      "Epoch 48/500\n",
      "4/4 - 0s - loss: 0.3752 - auc: 0.8695 - val_loss: 0.3806 - val_auc: 0.8626 - lr: 0.0010 - 23ms/epoch - 6ms/step\n",
      "Epoch 49/500\n",
      "4/4 - 0s - loss: 0.3724 - auc: 0.8712 - val_loss: 0.3785 - val_auc: 0.8639 - lr: 0.0010 - 23ms/epoch - 6ms/step\n",
      "Epoch 50/500\n",
      "4/4 - 0s - loss: 0.3704 - auc: 0.8719 - val_loss: 0.3759 - val_auc: 0.8650 - lr: 0.0010 - 24ms/epoch - 6ms/step\n",
      "Epoch 51/500\n",
      "4/4 - 0s - loss: 0.3678 - auc: 0.8726 - val_loss: 0.3737 - val_auc: 0.8661 - lr: 0.0010 - 23ms/epoch - 6ms/step\n",
      "Epoch 52/500\n",
      "4/4 - 0s - loss: 0.3651 - auc: 0.8742 - val_loss: 0.3716 - val_auc: 0.8672 - lr: 0.0010 - 23ms/epoch - 6ms/step\n",
      "Epoch 53/500\n",
      "4/4 - 0s - loss: 0.3629 - auc: 0.8754 - val_loss: 0.3698 - val_auc: 0.8683 - lr: 0.0010 - 23ms/epoch - 6ms/step\n",
      "Epoch 54/500\n",
      "4/4 - 0s - loss: 0.3612 - auc: 0.8766 - val_loss: 0.3675 - val_auc: 0.8694 - lr: 0.0010 - 23ms/epoch - 6ms/step\n",
      "Epoch 55/500\n",
      "4/4 - 0s - loss: 0.3590 - auc: 0.8771 - val_loss: 0.3646 - val_auc: 0.8701 - lr: 0.0010 - 24ms/epoch - 6ms/step\n",
      "Epoch 56/500\n",
      "4/4 - 0s - loss: 0.3569 - auc: 0.8768 - val_loss: 0.3631 - val_auc: 0.8709 - lr: 0.0010 - 23ms/epoch - 6ms/step\n",
      "Epoch 57/500\n",
      "4/4 - 0s - loss: 0.3555 - auc: 0.8778 - val_loss: 0.3615 - val_auc: 0.8723 - lr: 0.0010 - 23ms/epoch - 6ms/step\n",
      "Epoch 58/500\n",
      "4/4 - 0s - loss: 0.3534 - auc: 0.8793 - val_loss: 0.3605 - val_auc: 0.8739 - lr: 0.0010 - 23ms/epoch - 6ms/step\n",
      "Epoch 59/500\n",
      "4/4 - 0s - loss: 0.3521 - auc: 0.8812 - val_loss: 0.3602 - val_auc: 0.8740 - lr: 0.0010 - 23ms/epoch - 6ms/step\n",
      "Epoch 60/500\n",
      "4/4 - 0s - loss: 0.3508 - auc: 0.8823 - val_loss: 0.3595 - val_auc: 0.8744 - lr: 0.0010 - 23ms/epoch - 6ms/step\n",
      "Epoch 61/500\n",
      "4/4 - 0s - loss: 0.3494 - auc: 0.8834 - val_loss: 0.3600 - val_auc: 0.8754 - lr: 0.0010 - 24ms/epoch - 6ms/step\n",
      "Epoch 62/500\n",
      "4/4 - 0s - loss: 0.3492 - auc: 0.8835 - val_loss: 0.3582 - val_auc: 0.8750 - lr: 0.0010 - 24ms/epoch - 6ms/step\n",
      "Epoch 63/500\n",
      "4/4 - 0s - loss: 0.3475 - auc: 0.8840 - val_loss: 0.3567 - val_auc: 0.8760 - lr: 0.0010 - 23ms/epoch - 6ms/step\n",
      "Epoch 64/500\n",
      "4/4 - 0s - loss: 0.3474 - auc: 0.8842 - val_loss: 0.3551 - val_auc: 0.8773 - lr: 0.0010 - 24ms/epoch - 6ms/step\n",
      "Epoch 65/500\n",
      "4/4 - 0s - loss: 0.3461 - auc: 0.8842 - val_loss: 0.3549 - val_auc: 0.8775 - lr: 0.0010 - 23ms/epoch - 6ms/step\n",
      "Epoch 66/500\n",
      "4/4 - 0s - loss: 0.3453 - auc: 0.8841 - val_loss: 0.3537 - val_auc: 0.8773 - lr: 0.0010 - 24ms/epoch - 6ms/step\n",
      "Epoch 67/500\n",
      "4/4 - 0s - loss: 0.3444 - auc: 0.8846 - val_loss: 0.3537 - val_auc: 0.8773 - lr: 0.0010 - 24ms/epoch - 6ms/step\n",
      "Epoch 68/500\n",
      "4/4 - 0s - loss: 0.3440 - auc: 0.8850 - val_loss: 0.3537 - val_auc: 0.8774 - lr: 0.0010 - 23ms/epoch - 6ms/step\n",
      "Epoch 69/500\n",
      "4/4 - 0s - loss: 0.3436 - auc: 0.8851 - val_loss: 0.3529 - val_auc: 0.8777 - lr: 0.0010 - 23ms/epoch - 6ms/step\n",
      "Epoch 70/500\n",
      "4/4 - 0s - loss: 0.3427 - auc: 0.8856 - val_loss: 0.3517 - val_auc: 0.8788 - lr: 0.0010 - 24ms/epoch - 6ms/step\n",
      "Epoch 71/500\n",
      "4/4 - 0s - loss: 0.3423 - auc: 0.8856 - val_loss: 0.3512 - val_auc: 0.8798 - lr: 0.0010 - 23ms/epoch - 6ms/step\n",
      "Epoch 72/500\n",
      "4/4 - 0s - loss: 0.3422 - auc: 0.8856 - val_loss: 0.3496 - val_auc: 0.8809 - lr: 0.0010 - 24ms/epoch - 6ms/step\n",
      "Epoch 73/500\n",
      "4/4 - 0s - loss: 0.3414 - auc: 0.8861 - val_loss: 0.3491 - val_auc: 0.8813 - lr: 0.0010 - 24ms/epoch - 6ms/step\n",
      "Epoch 74/500\n",
      "4/4 - 0s - loss: 0.3417 - auc: 0.8862 - val_loss: 0.3490 - val_auc: 0.8812 - lr: 0.0010 - 23ms/epoch - 6ms/step\n",
      "Epoch 75/500\n",
      "4/4 - 0s - loss: 0.3409 - auc: 0.8863 - val_loss: 0.3495 - val_auc: 0.8810 - lr: 0.0010 - 24ms/epoch - 6ms/step\n",
      "Epoch 76/500\n",
      "4/4 - 0s - loss: 0.3408 - auc: 0.8866 - val_loss: 0.3486 - val_auc: 0.8813 - lr: 0.0010 - 23ms/epoch - 6ms/step\n",
      "Epoch 77/500\n",
      "4/4 - 0s - loss: 0.3400 - auc: 0.8869 - val_loss: 0.3481 - val_auc: 0.8814 - lr: 0.0010 - 23ms/epoch - 6ms/step\n",
      "Epoch 78/500\n",
      "4/4 - 0s - loss: 0.3402 - auc: 0.8866 - val_loss: 0.3482 - val_auc: 0.8815 - lr: 0.0010 - 24ms/epoch - 6ms/step\n",
      "Epoch 79/500\n",
      "4/4 - 0s - loss: 0.3398 - auc: 0.8869 - val_loss: 0.3477 - val_auc: 0.8812 - lr: 0.0010 - 23ms/epoch - 6ms/step\n",
      "Epoch 80/500\n",
      "4/4 - 0s - loss: 0.3391 - auc: 0.8871 - val_loss: 0.3477 - val_auc: 0.8813 - lr: 0.0010 - 23ms/epoch - 6ms/step\n",
      "Epoch 81/500\n",
      "4/4 - 0s - loss: 0.3390 - auc: 0.8872 - val_loss: 0.3479 - val_auc: 0.8811 - lr: 0.0010 - 23ms/epoch - 6ms/step\n",
      "Epoch 82/500\n",
      "4/4 - 0s - loss: 0.3385 - auc: 0.8874 - val_loss: 0.3478 - val_auc: 0.8811 - lr: 0.0010 - 23ms/epoch - 6ms/step\n",
      "Epoch 83/500\n",
      "4/4 - 0s - loss: 0.3387 - auc: 0.8873 - val_loss: 0.3474 - val_auc: 0.8813 - lr: 0.0010 - 24ms/epoch - 6ms/step\n",
      "Epoch 84/500\n",
      "4/4 - 0s - loss: 0.3383 - auc: 0.8876 - val_loss: 0.3471 - val_auc: 0.8818 - lr: 0.0010 - 24ms/epoch - 6ms/step\n",
      "Epoch 85/500\n",
      "4/4 - 0s - loss: 0.3381 - auc: 0.8875 - val_loss: 0.3472 - val_auc: 0.8818 - lr: 0.0010 - 23ms/epoch - 6ms/step\n",
      "Epoch 86/500\n",
      "4/4 - 0s - loss: 0.3380 - auc: 0.8877 - val_loss: 0.3480 - val_auc: 0.8810 - lr: 0.0010 - 23ms/epoch - 6ms/step\n",
      "Epoch 87/500\n",
      "4/4 - 0s - loss: 0.3377 - auc: 0.8876 - val_loss: 0.3487 - val_auc: 0.8798 - lr: 0.0010 - 25ms/epoch - 6ms/step\n",
      "Epoch 88/500\n",
      "4/4 - 0s - loss: 0.3377 - auc: 0.8876 - val_loss: 0.3494 - val_auc: 0.8795 - lr: 0.0010 - 51ms/epoch - 13ms/step\n",
      "Epoch 89/500\n",
      "4/4 - 0s - loss: 0.3377 - auc: 0.8874 - val_loss: 0.3498 - val_auc: 0.8795 - lr: 0.0010 - 33ms/epoch - 8ms/step\n",
      "Epoch 90/500\n",
      "4/4 - 0s - loss: 0.3377 - auc: 0.8874 - val_loss: 0.3487 - val_auc: 0.8798 - lr: 0.0010 - 26ms/epoch - 7ms/step\n",
      "Epoch 91/500\n",
      "4/4 - 0s - loss: 0.3381 - auc: 0.8874 - val_loss: 0.3474 - val_auc: 0.8810 - lr: 0.0010 - 26ms/epoch - 6ms/step\n",
      "Epoch 92/500\n",
      "4/4 - 0s - loss: 0.3368 - auc: 0.8882 - val_loss: 0.3472 - val_auc: 0.8815 - lr: 0.0010 - 26ms/epoch - 7ms/step\n",
      "Epoch 93/500\n",
      "4/4 - 0s - loss: 0.3372 - auc: 0.8879 - val_loss: 0.3471 - val_auc: 0.8812 - lr: 0.0010 - 25ms/epoch - 6ms/step\n",
      "Epoch 94/500\n",
      "4/4 - 0s - loss: 0.3367 - auc: 0.8881 - val_loss: 0.3461 - val_auc: 0.8822 - lr: 0.0010 - 25ms/epoch - 6ms/step\n",
      "Epoch 95/500\n",
      "4/4 - 0s - loss: 0.3368 - auc: 0.8880 - val_loss: 0.3460 - val_auc: 0.8827 - lr: 0.0010 - 25ms/epoch - 6ms/step\n",
      "Epoch 96/500\n",
      "4/4 - 0s - loss: 0.3367 - auc: 0.8879 - val_loss: 0.3457 - val_auc: 0.8830 - lr: 0.0010 - 24ms/epoch - 6ms/step\n",
      "Epoch 97/500\n",
      "4/4 - 0s - loss: 0.3367 - auc: 0.8878 - val_loss: 0.3449 - val_auc: 0.8832 - lr: 0.0010 - 24ms/epoch - 6ms/step\n",
      "Epoch 98/500\n",
      "4/4 - 0s - loss: 0.3364 - auc: 0.8880 - val_loss: 0.3453 - val_auc: 0.8835 - lr: 0.0010 - 24ms/epoch - 6ms/step\n",
      "Epoch 99/500\n",
      "4/4 - 0s - loss: 0.3361 - auc: 0.8882 - val_loss: 0.3450 - val_auc: 0.8835 - lr: 0.0010 - 23ms/epoch - 6ms/step\n",
      "Epoch 100/500\n",
      "4/4 - 0s - loss: 0.3359 - auc: 0.8883 - val_loss: 0.3452 - val_auc: 0.8833 - lr: 0.0010 - 24ms/epoch - 6ms/step\n",
      "Epoch 101/500\n",
      "4/4 - 0s - loss: 0.3360 - auc: 0.8883 - val_loss: 0.3448 - val_auc: 0.8833 - lr: 0.0010 - 24ms/epoch - 6ms/step\n",
      "Epoch 102/500\n",
      "4/4 - 0s - loss: 0.3359 - auc: 0.8884 - val_loss: 0.3444 - val_auc: 0.8837 - lr: 0.0010 - 24ms/epoch - 6ms/step\n",
      "Epoch 103/500\n",
      "4/4 - 0s - loss: 0.3357 - auc: 0.8887 - val_loss: 0.3447 - val_auc: 0.8835 - lr: 0.0010 - 23ms/epoch - 6ms/step\n",
      "Epoch 104/500\n",
      "4/4 - 0s - loss: 0.3351 - auc: 0.8891 - val_loss: 0.3459 - val_auc: 0.8830 - lr: 0.0010 - 23ms/epoch - 6ms/step\n",
      "Epoch 105/500\n",
      "4/4 - 0s - loss: 0.3357 - auc: 0.8889 - val_loss: 0.3468 - val_auc: 0.8824 - lr: 0.0010 - 23ms/epoch - 6ms/step\n",
      "Epoch 106/500\n",
      "4/4 - 0s - loss: 0.3355 - auc: 0.8887 - val_loss: 0.3455 - val_auc: 0.8832 - lr: 0.0010 - 23ms/epoch - 6ms/step\n",
      "Epoch 107/500\n",
      "4/4 - 0s - loss: 0.3353 - auc: 0.8890 - val_loss: 0.3446 - val_auc: 0.8838 - lr: 0.0010 - 24ms/epoch - 6ms/step\n",
      "Epoch 108/500\n",
      "4/4 - 0s - loss: 0.3350 - auc: 0.8892 - val_loss: 0.3442 - val_auc: 0.8838 - lr: 0.0010 - 24ms/epoch - 6ms/step\n",
      "Epoch 109/500\n",
      "4/4 - 0s - loss: 0.3349 - auc: 0.8893 - val_loss: 0.3444 - val_auc: 0.8840 - lr: 0.0010 - 24ms/epoch - 6ms/step\n",
      "Epoch 110/500\n",
      "4/4 - 0s - loss: 0.3350 - auc: 0.8891 - val_loss: 0.3444 - val_auc: 0.8841 - lr: 0.0010 - 24ms/epoch - 6ms/step\n",
      "Epoch 111/500\n",
      "4/4 - 0s - loss: 0.3347 - auc: 0.8892 - val_loss: 0.3439 - val_auc: 0.8845 - lr: 0.0010 - 24ms/epoch - 6ms/step\n",
      "Epoch 112/500\n",
      "4/4 - 0s - loss: 0.3345 - auc: 0.8895 - val_loss: 0.3438 - val_auc: 0.8843 - lr: 0.0010 - 23ms/epoch - 6ms/step\n",
      "Epoch 113/500\n",
      "4/4 - 0s - loss: 0.3346 - auc: 0.8895 - val_loss: 0.3434 - val_auc: 0.8845 - lr: 0.0010 - 24ms/epoch - 6ms/step\n",
      "Epoch 114/500\n",
      "4/4 - 0s - loss: 0.3345 - auc: 0.8894 - val_loss: 0.3432 - val_auc: 0.8847 - lr: 0.0010 - 23ms/epoch - 6ms/step\n",
      "Epoch 115/500\n",
      "4/4 - 0s - loss: 0.3344 - auc: 0.8894 - val_loss: 0.3435 - val_auc: 0.8845 - lr: 0.0010 - 23ms/epoch - 6ms/step\n",
      "Epoch 116/500\n",
      "4/4 - 0s - loss: 0.3345 - auc: 0.8894 - val_loss: 0.3431 - val_auc: 0.8850 - lr: 0.0010 - 24ms/epoch - 6ms/step\n",
      "Epoch 117/500\n",
      "4/4 - 0s - loss: 0.3342 - auc: 0.8895 - val_loss: 0.3433 - val_auc: 0.8847 - lr: 0.0010 - 24ms/epoch - 6ms/step\n",
      "Epoch 118/500\n",
      "4/4 - 0s - loss: 0.3342 - auc: 0.8896 - val_loss: 0.3438 - val_auc: 0.8843 - lr: 0.0010 - 24ms/epoch - 6ms/step\n",
      "Epoch 119/500\n",
      "4/4 - 0s - loss: 0.3340 - auc: 0.8896 - val_loss: 0.3440 - val_auc: 0.8843 - lr: 0.0010 - 24ms/epoch - 6ms/step\n",
      "Epoch 120/500\n",
      "4/4 - 0s - loss: 0.3339 - auc: 0.8897 - val_loss: 0.3442 - val_auc: 0.8844 - lr: 0.0010 - 23ms/epoch - 6ms/step\n",
      "Epoch 121/500\n",
      "4/4 - 0s - loss: 0.3341 - auc: 0.8896 - val_loss: 0.3444 - val_auc: 0.8842 - lr: 0.0010 - 23ms/epoch - 6ms/step\n",
      "Epoch 122/500\n",
      "4/4 - 0s - loss: 0.3344 - auc: 0.8895 - val_loss: 0.3443 - val_auc: 0.8843 - lr: 0.0010 - 24ms/epoch - 6ms/step\n",
      "Epoch 123/500\n",
      "4/4 - 0s - loss: 0.3342 - auc: 0.8896 - val_loss: 0.3441 - val_auc: 0.8846 - lr: 0.0010 - 24ms/epoch - 6ms/step\n",
      "Epoch 124/500\n",
      "4/4 - 0s - loss: 0.3344 - auc: 0.8896 - val_loss: 0.3437 - val_auc: 0.8851 - lr: 0.0010 - 24ms/epoch - 6ms/step\n",
      "Epoch 125/500\n",
      "4/4 - 0s - loss: 0.3340 - auc: 0.8897 - val_loss: 0.3433 - val_auc: 0.8856 - lr: 0.0010 - 23ms/epoch - 6ms/step\n",
      "Epoch 126/500\n",
      "4/4 - 0s - loss: 0.3336 - auc: 0.8901 - val_loss: 0.3451 - val_auc: 0.8853 - lr: 0.0010 - 24ms/epoch - 6ms/step\n"
     ]
    }
   ],
   "source": [
    "loss = keras.losses.BinaryCrossentropy(from_logits=False)\n",
    "metrics = keras.metrics.AUC(from_logits=False)\n",
    "deep_model.compile(\n",
    "    loss=loss,\n",
    "    metrics=metrics,\n",
    "    # metrics='accuracy',\n",
    "    optimizer=keras.optimizers.Adam(lr=0.0001)\n",
    ")\n",
    "\n",
    "callbacks = [\n",
    "    tf.keras.callbacks.ReduceLROnPlateau(monitor='val_loss', min_lr=1e-6),\n",
    "    tf.keras.callbacks.EarlyStopping(monitor='val_loss', patience=10),\n",
    "]\n",
    "\n",
    "class_weight = {0: 0.10,\n",
    "                1: 0.90}\n",
    "\n",
    "history = deep_model.fit(\n",
    "    x=x_train,\n",
    "    y=y_train,\n",
    "    batch_size=1024,\n",
    "    epochs=500,\n",
    "    verbose=2,\n",
    "    callbacks=callbacks,\n",
    "    validation_data=(x_eval, y_eval),\n",
    "    # class_weight=class_weight\n",
    ").history"
   ]
  },
  {
   "cell_type": "code",
   "execution_count": 43,
   "id": "dcf3b556-6c4b-4442-b45d-e615a04c8f96",
   "metadata": {},
   "outputs": [
    {
     "data": {
      "text/plain": [
       "[<matplotlib.lines.Line2D at 0x2a79e7010>]"
      ]
     },
     "execution_count": 43,
     "metadata": {},
     "output_type": "execute_result"
    },
    {
     "data": {
      "image/png": "[encoded data removed]",
      "text/plain": [
       "<Figure size 640x480 with 1 Axes>"
      ]
     },
     "metadata": {},
     "output_type": "display_data"
    }
   ],
   "source": [
    "plt.plot(history['val_loss'])"
   ]
  },
  {
   "cell_type": "code",
   "execution_count": 44,
   "id": "eeeacdf1-769a-4177-a03f-368abc96bc4a",
   "metadata": {},
   "outputs": [
    {
     "data": {
      "text/plain": [
       "[<matplotlib.lines.Line2D at 0x2a6abf550>]"
      ]
     },
     "execution_count": 44,
     "metadata": {},
     "output_type": "execute_result"
    },
    {
     "data": {
      "image/png": "[encoded data removed]",
      "text/plain": [
       "<Figure size 640x480 with 1 Axes>"
      ]
     },
     "metadata": {},
     "output_type": "display_data"
    }
   ],
   "source": [
    "plt.plot(history['loss'])"
   ]
  },
  {
   "cell_type": "markdown",
   "id": "cf577d7f-010d-4dff-b606-e37f9441f3b6",
   "metadata": {
    "tags": []
   },
   "source": [
    "#### Evaluate Model"
   ]
  },
  {
   "cell_type": "code",
   "execution_count": 45,
   "id": "65410c38-b3c1-4b2e-bed0-e2382a342c54",
   "metadata": {},
   "outputs": [
    {
     "name": "stdout",
     "output_type": "stream",
     "text": [
      "32/32 [==============================] - 0s 580us/step\n"
     ]
    }
   ],
   "source": [
    "y_pred = deep_model.predict(x_test)\n",
    "y_pred = y_pred.round()"
   ]
  },
  {
   "cell_type": "code",
   "execution_count": null,
   "id": "3fbc6e9b-cd8f-40b4-8ac1-709be300ef4f",
   "metadata": {},
   "outputs": [],
   "source": []
  },
  {
   "cell_type": "code",
   "execution_count": 46,
   "id": "97694461-ae1c-40ed-b08d-9a43b4df461e",
   "metadata": {},
   "outputs": [
    {
     "data": {
      "text/plain": [
       "(0.8259149357072205,\n",
       " 0.6889952153110048,\n",
       " 0.5647058823529412,\n",
       " 0.6206896551724138,\n",
       " 0.7393635231870527)"
      ]
     },
     "execution_count": 46,
     "metadata": {},
     "output_type": "execute_result"
    }
   ],
   "source": [
    "from sklearn.metrics import accuracy_score, precision_score, recall_score, f1_score, roc_auc_score, confusion_matrix\n",
    "\n",
    "(\n",
    "    accuracy_score(y_test, y_pred),\n",
    "    precision_score(y_test, y_pred),\n",
    "    recall_score(y_test, y_pred),\n",
    "    f1_score(y_test, y_pred),\n",
    "    roc_auc_score(y_test, y_pred),\n",
    ")"
   ]
  },
  {
   "cell_type": "code",
   "execution_count": 47,
   "id": "c496c125-d19f-4f59-947a-dc4ccd15511e",
   "metadata": {},
   "outputs": [
    {
     "data": {
      "text/plain": [
       "0.0    802\n",
       "1.0    209\n",
       "Name: count, dtype: int64"
      ]
     },
     "execution_count": 47,
     "metadata": {},
     "output_type": "execute_result"
    }
   ],
   "source": [
    "pd.Series(y_pred.reshape(-1)).value_counts()"
   ]
  },
  {
   "cell_type": "markdown",
   "id": "b06d17d9-459f-4f1f-afcc-c3076d8f4e80",
   "metadata": {},
   "source": [
    "## 4. Final Model"
   ]
  },
  {
   "cell_type": "code",
   "execution_count": 48,
   "id": "b7e97f57-7486-4506-8f24-58416ba01176",
   "metadata": {
    "scrolled": true,
    "tags": []
   },
   "outputs": [
    {
     "name": "stdout",
     "output_type": "stream",
     "text": [
      "[0]\tvalidation_0-auc:0.67288\tvalidation_1-auc:0.46579\n",
      "[1]\tvalidation_0-auc:0.81705\tvalidation_1-auc:0.49582\n",
      "[2]\tvalidation_0-auc:0.84903\tvalidation_1-auc:0.51871\n",
      "[3]\tvalidation_0-auc:0.86971\tvalidation_1-auc:0.53870\n",
      "[4]\tvalidation_0-auc:0.88470\tvalidation_1-auc:0.53284\n",
      "[5]\tvalidation_0-auc:0.89272\tvalidation_1-auc:0.52595\n",
      "[6]\tvalidation_0-auc:0.90034\tvalidation_1-auc:0.53034\n",
      "[7]\tvalidation_0-auc:0.91047\tvalidation_1-auc:0.53271\n",
      "[8]\tvalidation_0-auc:0.91687\tvalidation_1-auc:0.52835\n",
      "[9]\tvalidation_0-auc:0.92379\tvalidation_1-auc:0.53020\n",
      "[10]\tvalidation_0-auc:0.92167\tvalidation_1-auc:0.53481\n",
      "[11]\tvalidation_0-auc:0.92717\tvalidation_1-auc:0.53661\n",
      "[12]\tvalidation_0-auc:0.92998\tvalidation_1-auc:0.54035\n",
      "[13]\tvalidation_0-auc:0.93532\tvalidation_1-auc:0.53587\n",
      "[14]\tvalidation_0-auc:0.93547\tvalidation_1-auc:0.53813\n",
      "[15]\tvalidation_0-auc:0.94036\tvalidation_1-auc:0.53388\n",
      "[16]\tvalidation_0-auc:0.94441\tvalidation_1-auc:0.53242\n",
      "[17]\tvalidation_0-auc:0.94617\tvalidation_1-auc:0.53166\n",
      "[18]\tvalidation_0-auc:0.94902\tvalidation_1-auc:0.52563\n",
      "[19]\tvalidation_0-auc:0.95185\tvalidation_1-auc:0.52691\n",
      "[20]\tvalidation_0-auc:0.95387\tvalidation_1-auc:0.52613\n",
      "[21]\tvalidation_0-auc:0.95574\tvalidation_1-auc:0.52927\n",
      "[22]\tvalidation_0-auc:0.95680\tvalidation_1-auc:0.52909\n",
      "[23]\tvalidation_0-auc:0.95761\tvalidation_1-auc:0.52598\n",
      "[24]\tvalidation_0-auc:0.95898\tvalidation_1-auc:0.52387\n",
      "[25]\tvalidation_0-auc:0.96009\tvalidation_1-auc:0.52502\n",
      "[26]\tvalidation_0-auc:0.96154\tvalidation_1-auc:0.52484\n",
      "[27]\tvalidation_0-auc:0.96248\tvalidation_1-auc:0.52532\n",
      "[28]\tvalidation_0-auc:0.96358\tvalidation_1-auc:0.52817\n",
      "[29]\tvalidation_0-auc:0.96548\tvalidation_1-auc:0.52899\n",
      "[30]\tvalidation_0-auc:0.96633\tvalidation_1-auc:0.52798\n",
      "[31]\tvalidation_0-auc:0.96743\tvalidation_1-auc:0.52840\n",
      "[32]\tvalidation_0-auc:0.96811\tvalidation_1-auc:0.52963\n",
      "[33]\tvalidation_0-auc:0.96879\tvalidation_1-auc:0.52641\n",
      "[34]\tvalidation_0-auc:0.96980\tvalidation_1-auc:0.52636\n",
      "[35]\tvalidation_0-auc:0.97144\tvalidation_1-auc:0.52542\n",
      "[36]\tvalidation_0-auc:0.97180\tvalidation_1-auc:0.52609\n",
      "[37]\tvalidation_0-auc:0.97250\tvalidation_1-auc:0.52492\n",
      "[38]\tvalidation_0-auc:0.97359\tvalidation_1-auc:0.52329\n",
      "[39]\tvalidation_0-auc:0.97412\tvalidation_1-auc:0.52240\n",
      "[40]\tvalidation_0-auc:0.97532\tvalidation_1-auc:0.52147\n",
      "[41]\tvalidation_0-auc:0.97550\tvalidation_1-auc:0.52095\n",
      "[42]\tvalidation_0-auc:0.97684\tvalidation_1-auc:0.52084\n",
      "[43]\tvalidation_0-auc:0.97795\tvalidation_1-auc:0.52031\n",
      "[44]\tvalidation_0-auc:0.97852\tvalidation_1-auc:0.51901\n",
      "[45]\tvalidation_0-auc:0.97921\tvalidation_1-auc:0.52041\n",
      "[46]\tvalidation_0-auc:0.97966\tvalidation_1-auc:0.52017\n",
      "[47]\tvalidation_0-auc:0.98033\tvalidation_1-auc:0.51989\n",
      "[48]\tvalidation_0-auc:0.98099\tvalidation_1-auc:0.52021\n",
      "[49]\tvalidation_0-auc:0.98175\tvalidation_1-auc:0.51954\n",
      "[50]\tvalidation_0-auc:0.98235\tvalidation_1-auc:0.51920\n",
      "[51]\tvalidation_0-auc:0.98269\tvalidation_1-auc:0.51881\n",
      "[52]\tvalidation_0-auc:0.98321\tvalidation_1-auc:0.51966\n",
      "[53]\tvalidation_0-auc:0.98376\tvalidation_1-auc:0.52071\n",
      "[54]\tvalidation_0-auc:0.98436\tvalidation_1-auc:0.51989\n",
      "[55]\tvalidation_0-auc:0.98488\tvalidation_1-auc:0.51816\n",
      "[56]\tvalidation_0-auc:0.98540\tvalidation_1-auc:0.51899\n",
      "[57]\tvalidation_0-auc:0.98603\tvalidation_1-auc:0.51907\n",
      "[58]\tvalidation_0-auc:0.98638\tvalidation_1-auc:0.51894\n",
      "[59]\tvalidation_0-auc:0.98674\tvalidation_1-auc:0.51844\n",
      "[60]\tvalidation_0-auc:0.98701\tvalidation_1-auc:0.51909\n",
      "[61]\tvalidation_0-auc:0.98745\tvalidation_1-auc:0.52110\n"
     ]
    }
   ],
   "source": [
    "import xgboost as xgb\n",
    "from sklearn.metrics import f1_score\n",
    "\n",
    "params = {'alpha': 0.0023405959069878147,\n",
    " 'colsample_bytree': 0.9922414848515086,\n",
    " 'custom_metric': None,\n",
    " 'early_stopping_rounds': 50,\n",
    " 'eval_metric': 'auc',\n",
    " 'gamma': 0.0001556165502184308,\n",
    " 'lambda': 12.26727735578625,\n",
    " 'learning_rate': 0.03635030340361273,\n",
    " 'max_depth': 99,\n",
    " 'maximize': None,\n",
    " 'min_child_weight': 0.1493103731370199,\n",
    " 'num_boost_round': 5000,\n",
    " 'objective': 'binary:logistic',\n",
    " 'scale_pos_weight': 30.265488423226277,\n",
    " 'seed': 123,\n",
    " 'subsample': 0.9548053368066984,\n",
    " 'verbose_eval': False,\n",
    " 'enable_categorical': True,\n",
    " 'tree_method': 'hist'}\n",
    "\n",
    "# params = {'alpha': 0.005584013947653967,\n",
    "#  'colsample_bytree': 0.767872589594243,\n",
    "#  'gamma': 0.011320203235405252,\n",
    "#  'lambda': 6.244709782669356,\n",
    "#  'learning_rate': 1.0052846269486904,\n",
    "#  'max_depth': 41,\n",
    "#  'min_child_weight': 4.7903550386199765,\n",
    "#  'scale_pos_weight': 39.37939616204363,\n",
    "#  'subsample': 0.9980654615049733,\n",
    "#  'enable_categorical': True,\n",
    "#  'tree_method': 'hist',\n",
    "#  'eval_metric': 'auc',\n",
    "#  'early_stopping_rounds': 10}\n",
    "evaluation = [( X_train, y_train), ( X_val, y_val)]\n",
    "xgb_model = xgb.XGBClassifier(**params)\n",
    "xgb_model.fit(X_train, y_train, eval_set=evaluation)\n",
    "y_pred = xgb_model.predict(X_test)"
   ]
  },
  {
   "cell_type": "code",
   "execution_count": 49,
   "id": "7b8dcd54-b92f-4880-b880-1b0442efd61a",
   "metadata": {},
   "outputs": [
    {
     "data": {
      "text/plain": [
       "array([1, 1, 1, ..., 1, 1, 1])"
      ]
     },
     "execution_count": 49,
     "metadata": {},
     "output_type": "execute_result"
    }
   ],
   "source": [
    "y_pred"
   ]
  },
  {
   "cell_type": "code",
   "execution_count": 50,
   "id": "a7c0430b-acdf-4849-ac56-c6b359f60406",
   "metadata": {},
   "outputs": [
    {
     "data": {
      "text/plain": [
       "<Axes: title={'center': 'Feature importance'}, xlabel='F score', ylabel='Features'>"
      ]
     },
     "execution_count": 50,
     "metadata": {},
     "output_type": "execute_result"
    },
    {
     "data": {
      "image/png": "[encoded data removed]",
      "text/plain": [
       "<Figure size 640x480 with 1 Axes>"
      ]
     },
     "metadata": {},
     "output_type": "display_data"
    }
   ],
   "source": [
    "xgb.plot_importance(xgb_model)"
   ]
  },
  {
   "cell_type": "code",
   "execution_count": 51,
   "id": "d8b08301-4ebc-4d80-a587-2ccd654e23ce",
   "metadata": {},
   "outputs": [],
   "source": [
    "xgb_model.save_model('xgb_model.json')"
   ]
  },
  {
   "cell_type": "code",
   "execution_count": null,
   "id": "44a3ef24-dfe1-47f8-89a5-978356a8d08e",
   "metadata": {},
   "outputs": [],
   "source": []
  },
  {
   "cell_type": "markdown",
   "id": "42cf120e-4fea-408b-a320-8426fcbfe7ab",
   "metadata": {},
   "source": [
    "## 5. Use model.py to predict test"
   ]
  },
  {
   "cell_type": "code",
   "execution_count": 52,
   "id": "49b42315-1799-4dcc-a77e-fc224825a35d",
   "metadata": {},
   "outputs": [],
   "source": [
    "from predict import *\n",
    "model = load_model('xgb_model.json')\n",
    "test_data, ground_truth_label = read_data_csv()\n",
    "prediction_output, report_metrics = run_prediction(model, test_data, ground_truth_label)"
   ]
  },
  {
   "cell_type": "code",
   "execution_count": 53,
   "id": "f8d0e4da-ad62-4e7a-bdc5-e57713453ae2",
   "metadata": {},
   "outputs": [
    {
     "data": {
      "text/plain": [
       "array([1., 1., 1., ..., 1., 1., 1.], dtype=float32)"
      ]
     },
     "execution_count": 53,
     "metadata": {},
     "output_type": "execute_result"
    }
   ],
   "source": [
    "prediction_output"
   ]
  },
  {
   "cell_type": "code",
   "execution_count": 54,
   "id": "b635ae07-b5b5-4b3d-8cf3-1ab3e9b62218",
   "metadata": {},
   "outputs": [
    {
     "data": {
      "text/plain": [
       "{'accuracy': 0.2534124629080119,\n",
       " 'precision': 0.22952853598014888,\n",
       " 'recall': 0.9585492227979274,\n",
       " 'f1_score': 0.3703703703703704,\n",
       " 'roc_auc': 0.5012145652095873}"
      ]
     },
     "execution_count": 54,
     "metadata": {},
     "output_type": "execute_result"
    }
   ],
   "source": [
    "report_metrics"
   ]
  },
  {
   "cell_type": "code",
   "execution_count": 55,
   "id": "7f28f149-9e06-4e64-808d-7af5aa44b7fb",
   "metadata": {},
   "outputs": [
    {
     "data": {
      "text/plain": [
       "1.0    4836\n",
       "0.0     219\n",
       "Name: count, dtype: int64"
      ]
     },
     "execution_count": 55,
     "metadata": {},
     "output_type": "execute_result"
    }
   ],
   "source": [
    "pd.Series(prediction_output).value_counts()"
   ]
  },
  {
   "cell_type": "code",
   "execution_count": null,
   "id": "1d336063-59f3-4e2b-ac4c-2e4cce89d8e6",
   "metadata": {},
   "outputs": [],
   "source": []
  },
  {
   "cell_type": "code",
   "execution_count": null,
   "id": "024640e2-8a8c-4d90-907d-da71f2f877c9",
   "metadata": {},
   "outputs": [],
   "source": []
  },
  {
   "cell_type": "code",
   "execution_count": null,
   "id": "508459be-7d98-4395-a8e1-e0a47ae517da",
   "metadata": {},
   "outputs": [],
   "source": []
  }
 ],
 "metadata": {
  "kernelspec": {
   "display_name": "Python 3 (ipykernel)",
   "language": "python",
   "name": "python3"
  },
  "language_info": {
   "codemirror_mode": {
    "name": "ipython",
    "version": 3
   },
   "file_extension": ".py",
   "mimetype": "text/x-python",
   "name": "python",
   "nbconvert_exporter": "python",
   "pygments_lexer": "ipython3",
   "version": "3.11.5"
  }
 },
 "nbformat": 4,
 "nbformat_minor": 5
}
